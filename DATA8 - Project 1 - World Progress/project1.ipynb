{
 "cells": [
  {
   "cell_type": "code",
   "execution_count": 1,
   "metadata": {
    "deletable": false,
    "editable": false,
    "scrolled": true
   },
   "outputs": [
    {
     "name": "stdout",
     "output_type": "stream",
     "text": [
      "=====================================================================\n",
      "Assignment: Project 1: World Progress\n",
      "OK, version v1.12.5\n",
      "=====================================================================\n",
      "\n"
     ]
    }
   ],
   "source": [
    "# Initialize OK\n",
    "from client.api.notebook import Notebook\n",
    "ok = Notebook('project1.ok')"
   ]
  },
  {
   "cell_type": "markdown",
   "metadata": {},
   "source": [
    "## Project 1: World Progress"
   ]
  },
  {
   "cell_type": "markdown",
   "metadata": {},
   "source": [
    "In this project, you'll explore data from [Gapminder.org](http://gapminder.org), a website dedicated to providing a fact-based view of the world and how it has changed. That site includes several data visualizations and presentations, but also publishes the raw data that we will use in this project to recreate and extend some of their most famous visualizations.\n",
    "\n",
    "The Gapminder website collects data from many sources and compiles them into tables that describe many countries around the world. All of the data they aggregate are published in the [Systema Globalis](https://github.com/open-numbers/ddf--gapminder--systema_globalis/blob/master/README.md). Their goal is \"to compile all public statistics; Social, Economic and Environmental; into a comparable total dataset.\" All data sets in this project are copied directly from the Systema Globalis without any changes.\n",
    "\n",
    "This project is dedicated to [Hans Rosling](https://en.wikipedia.org/wiki/Hans_Rosling) (1948-2017), who championed the use of data to understand and prioritize global development challenges."
   ]
  },
  {
   "cell_type": "markdown",
   "metadata": {},
   "source": [
    "### Logistics\n",
    "\n",
    "**Deadline:** This project is due at 11:59pm on Sunday 7/12. Projects will be accepted up to 2 days (48 hours) late; a project submitted less than 24 hours after the deadline will receive 2/3 credit, a project submitted between 24 and 48 hours after the deadline will receive 1/3 credit, and a project submitted 48 hours or more after the deadline will receive no credit. It's **much** better to be early than late, so start working now.\n",
    "\n",
    "**Checkpoint:** For full credit, you must also complete the first 8 questions, pass all public autograder tests, and submit to okpy by 11:59pm on Thursday 7/9. After you've submitted the checkpoint, you may still change your answers before the project deadline - only your final submission will be graded for correctness. You will have some lab time to work on these questions, but we recommend that you start the project before lab and leave time to finish the checkpoint afterward.\n",
    "\n",
    "**Partners:** You may work with one other partner. Only one of you is required to submit the project. On [okpy.org](http://okpy.org), the person who submits should also designate their partner so that both of you receive credit.\n",
    "\n",
    "**Rules:** Don't share your code with anybody but your partner. You are welcome to discuss questions with other students, but don't share the answers. The experience of solving the problems in this project will prepare you for exams (and life). If someone asks you for the answer, resist! Instead, you can demonstrate how you would solve a similar problem.\n",
    "\n",
    "**Support:** You are not alone! Come to office hours, post on Piazza, and talk to your classmates. If you want to ask about the details of your solution to a problem, make a private Piazza post and the staff will respond. If you're ever feeling overwhelmed or don't know how to make progress, email your TA or tutor for help. You can find contact information for the staff on the [course website](http://data8.org/su20/staff.html).\n",
    "\n",
    "**Tests:** The tests that are given are **not comprehensive** and passing the tests for a question **does not** mean that you answered the question correctly. Tests usually only check that your table has the correct column labels. However, more tests will be applied to verify the correctness of your submission in order to assign your final score, so be careful and check your work! You might want to create your own checks along the way to see if your answers make sense. Additionally, before you submit, make sure that none of your cells take a very long time to run (several minutes).\n",
    "\n",
    "**Free Response Questions:** Make sure that you put the answers to the written questions in the indicated cell we provide. Check to make sure that you have a [Gradescope](http://gradescope.com) account, which is where the scores to the free response questions will be posted. If you do not, make sure to reach out to your assigned (u)GSI.\n",
    "\n",
    "**Advice:** Develop your answers incrementally. To perform a complicated table manipulation, break it up into steps, perform each step on a different line, give a new name to each result, and check that each intermediate result is what you expect. You can add any additional names or functions you want to the provided cells. Make sure that you are using distinct and meaningful variable names throughout the notebook. Along that line, **DO NOT** reuse the variable names that we use when we grade your answers. For example, in Question 1 of the Global Poverty section, we ask you to assign an answer to `latest`. Do not reassign the variable name `latest` to anything else in your notebook, otherwise there is the chance that our tests grade against what `latest` was reassigned to.\n",
    "\n",
    "You **never** have to use just one line in this project or any others. Use intermediate variables and multiple lines as much as you would like!  \n",
    "\n",
    "To get started, load `datascience`, `numpy`, `plots`, and `ok`."
   ]
  },
  {
   "cell_type": "code",
   "execution_count": 2,
   "metadata": {},
   "outputs": [
    {
     "name": "stdout",
     "output_type": "stream",
     "text": [
      "=====================================================================\n",
      "Assignment: Project 1: World Progress\n",
      "OK, version v1.12.5\n",
      "=====================================================================\n",
      "\n"
     ]
    }
   ],
   "source": [
    "from datascience import *\n",
    "import numpy as np\n",
    "\n",
    "%matplotlib inline\n",
    "import matplotlib.pyplot as plots\n",
    "plots.style.use('fivethirtyeight')\n",
    "\n",
    "from client.api.notebook import Notebook\n",
    "ok = Notebook('project1.ok')"
   ]
  },
  {
   "cell_type": "markdown",
   "metadata": {},
   "source": [
    "Before continuing the assignment, select \"Save and Checkpoint\" in the File menu and then execute the submit cell below. The result will contain a link that you can use to check that your assignment has been submitted successfully. If you submit more than once before the deadline, we will only grade your final submission. If you mistakenly submit the wrong one, you can head to okpy.org and flag the correct version. There will be another submit cell at the end of the assignment when you finish!"
   ]
  },
  {
   "cell_type": "code",
   "execution_count": null,
   "metadata": {},
   "outputs": [],
   "source": [
    "_ = ok.submit()"
   ]
  },
  {
   "cell_type": "markdown",
   "metadata": {
    "deletable": false,
    "editable": false
   },
   "source": [
    "## 1. Global Population Growth\n"
   ]
  },
  {
   "cell_type": "markdown",
   "metadata": {
    "deletable": false,
    "editable": false
   },
   "source": [
    "The global population of humans reached 1 billion around 1800, 3 billion around 1960, and 7 billion around 2011. The potential impact of exponential population growth has concerned scientists, economists, and politicians alike.\n",
    "\n",
    "The UN Population Division estimates that the world population will likely continue to grow throughout the 21st century, but at a slower rate, perhaps reaching 11 billion by 2100. However, the UN does not rule out scenarios of more extreme growth.\n",
    "\n",
    "<a href=\"http://www.pewresearch.org/fact-tank/2015/06/08/scientists-more-worried-than-public-about-worlds-growing-population/ft_15-06-04_popcount/\"> \n",
    " <img src=\"pew_population_projection.png\"/> \n",
    "</a>\n",
    "\n",
    "In this section, we will examine some of the factors that influence population growth and how they are changing around the world.\n",
    "\n",
    "The first table we will consider is the total population of each country over time. Run the cell below."
   ]
  },
  {
   "cell_type": "code",
   "execution_count": 3,
   "metadata": {
    "deletable": false,
    "editable": false
   },
   "outputs": [
    {
     "data": {
      "text/html": [
       "<table border=\"1\" class=\"dataframe\">\n",
       "    <thead>\n",
       "        <tr>\n",
       "            <th>geo</th> <th>time</th> <th>population_total</th>\n",
       "        </tr>\n",
       "    </thead>\n",
       "    <tbody>\n",
       "        <tr>\n",
       "            <td>abw </td> <td>1800</td> <td>19286           </td>\n",
       "        </tr>\n",
       "        <tr>\n",
       "            <td>abw </td> <td>1801</td> <td>19286           </td>\n",
       "        </tr>\n",
       "        <tr>\n",
       "            <td>abw </td> <td>1802</td> <td>19286           </td>\n",
       "        </tr>\n",
       "    </tbody>\n",
       "</table>\n",
       "<p>... (87792 rows omitted)</p>"
      ],
      "text/plain": [
       "<IPython.core.display.HTML object>"
      ]
     },
     "metadata": {},
     "output_type": "display_data"
    }
   ],
   "source": [
    "population = Table.read_table('population.csv')\n",
    "population.show(3)"
   ]
  },
  {
   "cell_type": "markdown",
   "metadata": {},
   "source": [
    "**Note:** The population csv file can also be found [here](https://github.com/open-numbers/ddf--gapminder--systema_globalis/raw/master/ddf--datapoints--population_total--by--geo--time.csv). The data for this project was downloaded in February 2017."
   ]
  },
  {
   "cell_type": "markdown",
   "metadata": {
    "deletable": false,
    "editable": false
   },
   "source": [
    "### Bangladesh\n",
    "\n",
    "In the `population` table, the `geo` column contains three-letter codes established by the [International Organization for Standardization](https://en.wikipedia.org/wiki/International_Organization_for_Standardization) (ISO) in the [Alpha-3](https://en.wikipedia.org/wiki/ISO_3166-1_alpha-3#Current_codes) standard. We will begin by taking a close look at Bangladesh. Inspect the standard to find the 3-letter code for Bangladesh."
   ]
  },
  {
   "cell_type": "markdown",
   "metadata": {
    "deletable": false,
    "editable": false
   },
   "source": [
    "**Question 1.** Create a table called `b_pop` that has two columns labeled `time` and `population_total`. The first column should contain the years from 1970 through 2015 (including both 1970 and 2015) and the second should contain the population of Bangladesh in each of those years.\n",
    "\n",
    "<!--\n",
    "BEGIN QUESTION\n",
    "name: q1_1\n",
    "-->"
   ]
  },
  {
   "cell_type": "code",
   "execution_count": 4,
   "metadata": {
    "deletable": false
   },
   "outputs": [
    {
     "data": {
      "text/html": [
       "<table border=\"1\" class=\"dataframe\">\n",
       "    <thead>\n",
       "        <tr>\n",
       "            <th>time</th> <th>population_total</th>\n",
       "        </tr>\n",
       "    </thead>\n",
       "    <tbody>\n",
       "        <tr>\n",
       "            <td>1970</td> <td>65048701        </td>\n",
       "        </tr>\n",
       "        <tr>\n",
       "            <td>1971</td> <td>66417450        </td>\n",
       "        </tr>\n",
       "        <tr>\n",
       "            <td>1972</td> <td>67578486        </td>\n",
       "        </tr>\n",
       "        <tr>\n",
       "            <td>1973</td> <td>68658472        </td>\n",
       "        </tr>\n",
       "        <tr>\n",
       "            <td>1974</td> <td>69837960        </td>\n",
       "        </tr>\n",
       "        <tr>\n",
       "            <td>1975</td> <td>71247153        </td>\n",
       "        </tr>\n",
       "        <tr>\n",
       "            <td>1976</td> <td>72930206        </td>\n",
       "        </tr>\n",
       "        <tr>\n",
       "            <td>1977</td> <td>74848466        </td>\n",
       "        </tr>\n",
       "        <tr>\n",
       "            <td>1978</td> <td>76948378        </td>\n",
       "        </tr>\n",
       "        <tr>\n",
       "            <td>1979</td> <td>79141947        </td>\n",
       "        </tr>\n",
       "    </tbody>\n",
       "</table>\n",
       "<p>... (36 rows omitted)</p>"
      ],
      "text/plain": [
       "time | population_total\n",
       "1970 | 65048701\n",
       "1971 | 66417450\n",
       "1972 | 67578486\n",
       "1973 | 68658472\n",
       "1974 | 69837960\n",
       "1975 | 71247153\n",
       "1976 | 72930206\n",
       "1977 | 74848466\n",
       "1978 | 76948378\n",
       "1979 | 79141947\n",
       "... (36 rows omitted)"
      ]
     },
     "execution_count": 4,
     "metadata": {},
     "output_type": "execute_result"
    }
   ],
   "source": [
    "int_table = population.where(\"geo\", are.equal_to(\"bgd\"))\n",
    "b_pop = Table().with_columns(\"time\", np.arange(1970, 2016, 1), \"population_total\", int_table.where(\"time\", are.between(1970, 2016)).column(\"population_total\"))\n",
    "b_pop"
   ]
  },
  {
   "cell_type": "code",
   "execution_count": 5,
   "metadata": {
    "deletable": false,
    "editable": false
   },
   "outputs": [
    {
     "name": "stdout",
     "output_type": "stream",
     "text": [
      "~~~~~~~~~~~~~~~~~~~~~~~~~~~~~~~~~~~~~~~~~~~~~~~~~~~~~~~~~~~~~~~~~~~~~\n",
      "Running tests\n",
      "\n",
      "---------------------------------------------------------------------\n",
      "Test summary\n",
      "    Passed: 2\n",
      "    Failed: 0\n",
      "[ooooooooook] 100.0% passed\n",
      "\n"
     ]
    }
   ],
   "source": [
    "ok.grade(\"q1_1\");"
   ]
  },
  {
   "cell_type": "markdown",
   "metadata": {
    "deletable": false,
    "editable": false
   },
   "source": [
    "Run the following cell to create a table called `b_five` that has the population of Bangladesh every five years. At a glance, it appears that the population of Bangladesh has been growing quickly indeed!"
   ]
  },
  {
   "cell_type": "code",
   "execution_count": 6,
   "metadata": {
    "deletable": false,
    "editable": false
   },
   "outputs": [
    {
     "data": {
      "text/html": [
       "<table border=\"1\" class=\"dataframe\">\n",
       "    <thead>\n",
       "        <tr>\n",
       "            <th>time</th> <th>population_total</th>\n",
       "        </tr>\n",
       "    </thead>\n",
       "    <tbody>\n",
       "        <tr>\n",
       "            <td>1970</td> <td>65,048,701      </td>\n",
       "        </tr>\n",
       "        <tr>\n",
       "            <td>1975</td> <td>71,247,153      </td>\n",
       "        </tr>\n",
       "        <tr>\n",
       "            <td>1980</td> <td>81,364,176      </td>\n",
       "        </tr>\n",
       "        <tr>\n",
       "            <td>1985</td> <td>93,015,182      </td>\n",
       "        </tr>\n",
       "        <tr>\n",
       "            <td>1990</td> <td>105,983,136     </td>\n",
       "        </tr>\n",
       "        <tr>\n",
       "            <td>1995</td> <td>118,427,768     </td>\n",
       "        </tr>\n",
       "        <tr>\n",
       "            <td>2000</td> <td>131,280,739     </td>\n",
       "        </tr>\n",
       "        <tr>\n",
       "            <td>2005</td> <td>142,929,979     </td>\n",
       "        </tr>\n",
       "        <tr>\n",
       "            <td>2010</td> <td>151,616,777     </td>\n",
       "        </tr>\n",
       "        <tr>\n",
       "            <td>2015</td> <td>160,995,642     </td>\n",
       "        </tr>\n",
       "    </tbody>\n",
       "</table>"
      ],
      "text/plain": [
       "time | population_total\n",
       "1970 | 65,048,701\n",
       "1975 | 71,247,153\n",
       "1980 | 81,364,176\n",
       "1985 | 93,015,182\n",
       "1990 | 105,983,136\n",
       "1995 | 118,427,768\n",
       "2000 | 131,280,739\n",
       "2005 | 142,929,979\n",
       "2010 | 151,616,777\n",
       "2015 | 160,995,642"
      ]
     },
     "execution_count": 6,
     "metadata": {},
     "output_type": "execute_result"
    }
   ],
   "source": [
    "b_pop.set_format('population_total', NumberFormatter)\n",
    "\n",
    "fives = np.arange(1970, 2016, 5) # 1970, 1975, 1980, ...\n",
    "b_five = b_pop.sort('time').where('time', are.contained_in(fives))\n",
    "b_five"
   ]
  },
  {
   "cell_type": "markdown",
   "metadata": {
    "deletable": false,
    "editable": false
   },
   "source": [
    "**Question 2.** Assign `initial` to an array that contains the population for every five year interval from 1970 to 2010. Then, assign `changed` to an array that contains the population for every five year interval from 1975 to 2015. You should use the `b_five` table to create both arrays, first filtering the table to only contain the relevant years.\n",
    "\n",
    "We have provided the code below that uses  `initial` and `changed` in order to add a column to `b_five` called `annual_growth`. Don't worry about the calculation of the growth rates; run the test below to test your solution.\n",
    "\n",
    "If you are interested in how we came up with the formula for growth rates, consult the [growth rates](https://www.inferentialthinking.com/chapters/03/2/1/growth) section of the textbook.\n",
    "\n",
    "<!--\n",
    "BEGIN QUESTION\n",
    "name: q1_2\n",
    "-->"
   ]
  },
  {
   "cell_type": "code",
   "execution_count": 7,
   "metadata": {
    "deletable": false
   },
   "outputs": [
    {
     "data": {
      "text/html": [
       "<table border=\"1\" class=\"dataframe\">\n",
       "    <thead>\n",
       "        <tr>\n",
       "            <th>time</th> <th>population_total</th> <th>annual_growth</th>\n",
       "        </tr>\n",
       "    </thead>\n",
       "    <tbody>\n",
       "        <tr>\n",
       "            <td>1970</td> <td>65,048,701      </td> <td>1.84%        </td>\n",
       "        </tr>\n",
       "        <tr>\n",
       "            <td>1975</td> <td>71,247,153      </td> <td>2.69%        </td>\n",
       "        </tr>\n",
       "        <tr>\n",
       "            <td>1980</td> <td>81,364,176      </td> <td>2.71%        </td>\n",
       "        </tr>\n",
       "        <tr>\n",
       "            <td>1985</td> <td>93,015,182      </td> <td>2.64%        </td>\n",
       "        </tr>\n",
       "        <tr>\n",
       "            <td>1990</td> <td>105,983,136     </td> <td>2.25%        </td>\n",
       "        </tr>\n",
       "        <tr>\n",
       "            <td>1995</td> <td>118,427,768     </td> <td>2.08%        </td>\n",
       "        </tr>\n",
       "        <tr>\n",
       "            <td>2000</td> <td>131,280,739     </td> <td>1.71%        </td>\n",
       "        </tr>\n",
       "        <tr>\n",
       "            <td>2005</td> <td>142,929,979     </td> <td>1.19%        </td>\n",
       "        </tr>\n",
       "        <tr>\n",
       "            <td>2010</td> <td>151,616,777     </td> <td>1.21%        </td>\n",
       "        </tr>\n",
       "    </tbody>\n",
       "</table>"
      ],
      "text/plain": [
       "time | population_total | annual_growth\n",
       "1970 | 65,048,701       | 1.84%\n",
       "1975 | 71,247,153       | 2.69%\n",
       "1980 | 81,364,176       | 2.71%\n",
       "1985 | 93,015,182       | 2.64%\n",
       "1990 | 105,983,136      | 2.25%\n",
       "1995 | 118,427,768      | 2.08%\n",
       "2000 | 131,280,739      | 1.71%\n",
       "2005 | 142,929,979      | 1.19%\n",
       "2010 | 151,616,777      | 1.21%"
      ]
     },
     "execution_count": 7,
     "metadata": {},
     "output_type": "execute_result"
    }
   ],
   "source": [
    "initial = b_five.where(\"time\", are.between(1970, 2011)).column(\"population_total\")\n",
    "changed = b_five.where(\"time\", are.between(1975, 2016)).column(\"population_total\")\n",
    "\n",
    "b_1970_through_2010 = b_five.where('time', are.below_or_equal_to(2010)) \n",
    "b_five_growth = b_1970_through_2010.with_column('annual_growth', (changed/initial)**0.2-1)\n",
    "b_five_growth.set_format('annual_growth', PercentFormatter)"
   ]
  },
  {
   "cell_type": "code",
   "execution_count": 8,
   "metadata": {
    "deletable": false,
    "editable": false
   },
   "outputs": [
    {
     "name": "stdout",
     "output_type": "stream",
     "text": [
      "~~~~~~~~~~~~~~~~~~~~~~~~~~~~~~~~~~~~~~~~~~~~~~~~~~~~~~~~~~~~~~~~~~~~~\n",
      "Running tests\n",
      "\n",
      "---------------------------------------------------------------------\n",
      "Test summary\n",
      "    Passed: 2\n",
      "    Failed: 0\n",
      "[ooooooooook] 100.0% passed\n",
      "\n"
     ]
    }
   ],
   "source": [
    "ok.grade(\"q1_2\");"
   ]
  },
  {
   "cell_type": "markdown",
   "metadata": {
    "deletable": false,
    "editable": false
   },
   "source": [
    "While the population has grown every five years since 1970, the annual growth rate decreased dramatically from 1985 to 2005. Let's look at some other information in order to develop a possible explanation. Run the next cell to load three additional tables of measurements about countries over time."
   ]
  },
  {
   "cell_type": "code",
   "execution_count": 9,
   "metadata": {
    "deletable": false,
    "editable": false
   },
   "outputs": [],
   "source": [
    "life_expectancy = Table.read_table('life_expectancy.csv')\n",
    "child_mortality = Table.read_table('child_mortality.csv').relabel(2, 'child_mortality_under_5_per_1000_born')\n",
    "fertility = Table.read_table('fertility.csv')"
   ]
  },
  {
   "cell_type": "markdown",
   "metadata": {
    "deletable": false,
    "editable": false
   },
   "source": [
    "The `life_expectancy` table contains a statistic that is often used to measure how long people live, called *life expectancy at birth*. This number, for a country in a given year, [does not measure how long babies born in that year are expected to live](http://blogs.worldbank.org/opendata/what-does-life-expectancy-birth-really-mean). Instead, it measures how long someone would live, on average, if the *mortality conditions* in that year persisted throughout their lifetime. These \"mortality conditions\" describe what fraction of people at each age survived the year. So, it is a way of measuring the proportion of people that are staying alive, aggregated over different age groups in the population."
   ]
  },
  {
   "cell_type": "markdown",
   "metadata": {},
   "source": [
    "Run the following cells below to see `life_expectancy`, `child_mortality`, and `fertility`. Refer back to these tables as they will be helpful for answering further questions!"
   ]
  },
  {
   "cell_type": "code",
   "execution_count": 10,
   "metadata": {},
   "outputs": [
    {
     "data": {
      "text/html": [
       "<table border=\"1\" class=\"dataframe\">\n",
       "    <thead>\n",
       "        <tr>\n",
       "            <th>geo</th> <th>time</th> <th>life_expectancy_years</th>\n",
       "        </tr>\n",
       "    </thead>\n",
       "    <tbody>\n",
       "        <tr>\n",
       "            <td>afg </td> <td>1800</td> <td>28.21                </td>\n",
       "        </tr>\n",
       "        <tr>\n",
       "            <td>afg </td> <td>1801</td> <td>28.2                 </td>\n",
       "        </tr>\n",
       "        <tr>\n",
       "            <td>afg </td> <td>1802</td> <td>28.19                </td>\n",
       "        </tr>\n",
       "        <tr>\n",
       "            <td>afg </td> <td>1803</td> <td>28.18                </td>\n",
       "        </tr>\n",
       "        <tr>\n",
       "            <td>afg </td> <td>1804</td> <td>28.17                </td>\n",
       "        </tr>\n",
       "        <tr>\n",
       "            <td>afg </td> <td>1805</td> <td>28.16                </td>\n",
       "        </tr>\n",
       "        <tr>\n",
       "            <td>afg </td> <td>1806</td> <td>28.15                </td>\n",
       "        </tr>\n",
       "        <tr>\n",
       "            <td>afg </td> <td>1807</td> <td>28.14                </td>\n",
       "        </tr>\n",
       "        <tr>\n",
       "            <td>afg </td> <td>1808</td> <td>28.13                </td>\n",
       "        </tr>\n",
       "        <tr>\n",
       "            <td>afg </td> <td>1809</td> <td>28.12                </td>\n",
       "        </tr>\n",
       "    </tbody>\n",
       "</table>\n",
       "<p>... (43847 rows omitted)</p>"
      ],
      "text/plain": [
       "geo  | time | life_expectancy_years\n",
       "afg  | 1800 | 28.21\n",
       "afg  | 1801 | 28.2\n",
       "afg  | 1802 | 28.19\n",
       "afg  | 1803 | 28.18\n",
       "afg  | 1804 | 28.17\n",
       "afg  | 1805 | 28.16\n",
       "afg  | 1806 | 28.15\n",
       "afg  | 1807 | 28.14\n",
       "afg  | 1808 | 28.13\n",
       "afg  | 1809 | 28.12\n",
       "... (43847 rows omitted)"
      ]
     },
     "execution_count": 10,
     "metadata": {},
     "output_type": "execute_result"
    }
   ],
   "source": [
    "life_expectancy"
   ]
  },
  {
   "cell_type": "code",
   "execution_count": 11,
   "metadata": {},
   "outputs": [
    {
     "data": {
      "text/html": [
       "<table border=\"1\" class=\"dataframe\">\n",
       "    <thead>\n",
       "        <tr>\n",
       "            <th>geo</th> <th>time</th> <th>child_mortality_under_5_per_1000_born</th>\n",
       "        </tr>\n",
       "    </thead>\n",
       "    <tbody>\n",
       "        <tr>\n",
       "            <td>afg </td> <td>1800</td> <td>468.6                                </td>\n",
       "        </tr>\n",
       "        <tr>\n",
       "            <td>afg </td> <td>1801</td> <td>468.6                                </td>\n",
       "        </tr>\n",
       "        <tr>\n",
       "            <td>afg </td> <td>1802</td> <td>468.6                                </td>\n",
       "        </tr>\n",
       "        <tr>\n",
       "            <td>afg </td> <td>1803</td> <td>468.6                                </td>\n",
       "        </tr>\n",
       "        <tr>\n",
       "            <td>afg </td> <td>1804</td> <td>468.6                                </td>\n",
       "        </tr>\n",
       "        <tr>\n",
       "            <td>afg </td> <td>1805</td> <td>468.6                                </td>\n",
       "        </tr>\n",
       "        <tr>\n",
       "            <td>afg </td> <td>1806</td> <td>470                                  </td>\n",
       "        </tr>\n",
       "        <tr>\n",
       "            <td>afg </td> <td>1807</td> <td>470                                  </td>\n",
       "        </tr>\n",
       "        <tr>\n",
       "            <td>afg </td> <td>1808</td> <td>470                                  </td>\n",
       "        </tr>\n",
       "        <tr>\n",
       "            <td>afg </td> <td>1809</td> <td>470                                  </td>\n",
       "        </tr>\n",
       "    </tbody>\n",
       "</table>\n",
       "<p>... (40746 rows omitted)</p>"
      ],
      "text/plain": [
       "geo  | time | child_mortality_under_5_per_1000_born\n",
       "afg  | 1800 | 468.6\n",
       "afg  | 1801 | 468.6\n",
       "afg  | 1802 | 468.6\n",
       "afg  | 1803 | 468.6\n",
       "afg  | 1804 | 468.6\n",
       "afg  | 1805 | 468.6\n",
       "afg  | 1806 | 470\n",
       "afg  | 1807 | 470\n",
       "afg  | 1808 | 470\n",
       "afg  | 1809 | 470\n",
       "... (40746 rows omitted)"
      ]
     },
     "execution_count": 11,
     "metadata": {},
     "output_type": "execute_result"
    }
   ],
   "source": [
    "child_mortality"
   ]
  },
  {
   "cell_type": "code",
   "execution_count": 12,
   "metadata": {},
   "outputs": [
    {
     "data": {
      "text/html": [
       "<table border=\"1\" class=\"dataframe\">\n",
       "    <thead>\n",
       "        <tr>\n",
       "            <th>geo</th> <th>time</th> <th>children_per_woman_total_fertility</th>\n",
       "        </tr>\n",
       "    </thead>\n",
       "    <tbody>\n",
       "        <tr>\n",
       "            <td>afg </td> <td>1800</td> <td>7                                 </td>\n",
       "        </tr>\n",
       "        <tr>\n",
       "            <td>afg </td> <td>1801</td> <td>7                                 </td>\n",
       "        </tr>\n",
       "        <tr>\n",
       "            <td>afg </td> <td>1802</td> <td>7                                 </td>\n",
       "        </tr>\n",
       "        <tr>\n",
       "            <td>afg </td> <td>1803</td> <td>7                                 </td>\n",
       "        </tr>\n",
       "        <tr>\n",
       "            <td>afg </td> <td>1804</td> <td>7                                 </td>\n",
       "        </tr>\n",
       "        <tr>\n",
       "            <td>afg </td> <td>1805</td> <td>7                                 </td>\n",
       "        </tr>\n",
       "        <tr>\n",
       "            <td>afg </td> <td>1806</td> <td>7                                 </td>\n",
       "        </tr>\n",
       "        <tr>\n",
       "            <td>afg </td> <td>1807</td> <td>7                                 </td>\n",
       "        </tr>\n",
       "        <tr>\n",
       "            <td>afg </td> <td>1808</td> <td>7                                 </td>\n",
       "        </tr>\n",
       "        <tr>\n",
       "            <td>afg </td> <td>1809</td> <td>7                                 </td>\n",
       "        </tr>\n",
       "    </tbody>\n",
       "</table>\n",
       "<p>... (43402 rows omitted)</p>"
      ],
      "text/plain": [
       "geo  | time | children_per_woman_total_fertility\n",
       "afg  | 1800 | 7\n",
       "afg  | 1801 | 7\n",
       "afg  | 1802 | 7\n",
       "afg  | 1803 | 7\n",
       "afg  | 1804 | 7\n",
       "afg  | 1805 | 7\n",
       "afg  | 1806 | 7\n",
       "afg  | 1807 | 7\n",
       "afg  | 1808 | 7\n",
       "afg  | 1809 | 7\n",
       "... (43402 rows omitted)"
      ]
     },
     "execution_count": 12,
     "metadata": {},
     "output_type": "execute_result"
    }
   ],
   "source": [
    "fertility"
   ]
  },
  {
   "cell_type": "markdown",
   "metadata": {
    "deletable": false,
    "editable": false
   },
   "source": [
    "**Question 3.** Perhaps population is growing more slowly because people aren't living as long. Use the `life_expectancy` table to draw a line graph with the years 1970 and later on the horizontal axis that shows how the *life expectancy at birth* has changed in Bangladesh.\n",
    "\n",
    "<!--\n",
    "BEGIN QUESTION\n",
    "name: q1_3\n",
    "manual: true\n",
    "-->\n",
    "<!-- EXPORT TO PDF -->"
   ]
  },
  {
   "cell_type": "code",
   "execution_count": 13,
   "metadata": {
    "deletable": false,
    "export_pdf": true,
    "manual_grade": true,
    "manual_problem_id": "global_pop_3"
   },
   "outputs": [
    {
     "data": {
      "image/png": "[encoded data removed]",
      "text/plain": [
       "<Figure size 432x288 with 1 Axes>"
      ]
     },
     "metadata": {},
     "output_type": "display_data"
    }
   ],
   "source": [
    "#Fill in code here\n",
    "life_expectancy.where(\"geo\", are.equal_to(\"bgd\")).where(\"time\", are.above(1969)).plot(\"time\", \"life_expectancy_years\")"
   ]
  },
  {
   "cell_type": "markdown",
   "metadata": {
    "deletable": false,
    "editable": false
   },
   "source": [
    "**Question 4.** Assuming everything else stays the same, do the trends in life expectancy in the graph above directly explain why the population growth rate decreased from 1985 to 2010 in Bangladesh? Why or why not? \n",
    "\n",
    "Hint: What happened in Bangladesh in 1991, and does that event explain the overall change in population growth rate?\n",
    "\n",
    "<!--\n",
    "BEGIN QUESTION\n",
    "name: q1_4\n",
    "manual: true\n",
    "-->\n",
    "<!-- EXPORT TO PDF -->"
   ]
  },
  {
   "cell_type": "markdown",
   "metadata": {
    "collapsed": true,
    "deletable": false,
    "export_pdf": true,
    "manual_grade": true,
    "manual_problem_id": "global_pop_4"
   },
   "source": [
    "No, life expectancy does not explain the decrease in growth rate from 1985 to 2010.\n",
    "\n",
    "The line graph of life expectancy in Bangladesh over that period is positively sloped, with a steady increase in life expectancy, excepting 1991, when a devastating cyclone struck Bangladesh, so the mortality factors during the time period appears to have consistently improved, again excepting the force majeure cyclone year. Instead, the graph suggests that the growth rate should have increased rather than decreased."
   ]
  },
  {
   "cell_type": "markdown",
   "metadata": {
    "deletable": false,
    "editable": false
   },
   "source": [
    "The `fertility` table contains a statistic that is often used to measure how many babies are being born, the *total fertility rate*. This number describes the [number of children a woman would have in her lifetime](https://www.measureevaluation.org/prh/rh_indicators/specific/fertility/total-fertility-rate), on average, if the current rates of birth by age of the mother persisted throughout her child bearing years, assuming she survived through age 49. "
   ]
  },
  {
   "cell_type": "markdown",
   "metadata": {
    "deletable": false,
    "editable": false
   },
   "source": [
    "**Question 5.** Write a function `fertility_over_time` that takes the Alpha-3 code of a `country` and a `start` year. It returns a two-column table with labels `Year` and `Children per woman` that can be used to generate a line chart of the country's fertility rate each year, starting at the `start` year. The plot should include the `start` year and all later years that appear in the `fertility` table. \n",
    "\n",
    "Then, in the next cell, call your `fertility_over_time` function on the Alpha-3 code for Bangladesh and the year 1970 in order to plot how Bangladesh's fertility rate has changed since 1970. Note that the function `fertility_over_time` should not return the plot itself. **The expression that draws the line plot is provided for you; please don't change it.**\n",
    "\n",
    "<!--\n",
    "BEGIN QUESTION\n",
    "name: q1_5\n",
    "-->"
   ]
  },
  {
   "cell_type": "code",
   "execution_count": 14,
   "metadata": {
    "deletable": false
   },
   "outputs": [
    {
     "data": {
      "image/png": "[encoded data removed]",
      "text/plain": [
       "<Figure size 432x288 with 1 Axes>"
      ]
     },
     "metadata": {},
     "output_type": "display_data"
    }
   ],
   "source": [
    "def fertility_over_time(country, start):\n",
    "    \"\"\"Create a two-column table that describes a country's total fertility rate each year.\"\"\"\n",
    "    country_fertility = fertility.where(\"geo\", are.equal_to(country))\n",
    "    country_fertility_after_start = country_fertility.where(\"time\", are.above_or_equal_to(start))\n",
    "    cleaned_table = Table().with_columns(\"Year\", country_fertility_after_start.column(\"time\"), \"Children per woman\", country_fertility_after_start.column(\"children_per_woman_total_fertility\"))\n",
    "    return cleaned_table\n",
    "\n",
    "bangladesh_code = \"bgd\"\n",
    "fertility_over_time(bangladesh_code, 1970).plot(0, 1) # You should *not* change this line."
   ]
  },
  {
   "cell_type": "code",
   "execution_count": 15,
   "metadata": {
    "deletable": false,
    "editable": false
   },
   "outputs": [
    {
     "name": "stdout",
     "output_type": "stream",
     "text": [
      "~~~~~~~~~~~~~~~~~~~~~~~~~~~~~~~~~~~~~~~~~~~~~~~~~~~~~~~~~~~~~~~~~~~~~\n",
      "Running tests\n",
      "\n",
      "---------------------------------------------------------------------\n",
      "Test summary\n",
      "    Passed: 3\n",
      "    Failed: 0\n",
      "[ooooooooook] 100.0% passed\n",
      "\n"
     ]
    }
   ],
   "source": [
    "ok.grade(\"q1_5\");"
   ]
  },
  {
   "cell_type": "markdown",
   "metadata": {
    "deletable": false,
    "editable": false
   },
   "source": [
    "**Question 6.** Assuming everything else is constant, do the trends in fertility in the graph above help directly explain why the population growth rate decreased from 1985 to 2010 in Bangladesh? Why or why not?\n",
    "\n",
    "<!--\n",
    "BEGIN QUESTION\n",
    "name: q1_6\n",
    "manual: true\n",
    "-->\n",
    "<!-- EXPORT TO PDF -->"
   ]
  },
  {
   "cell_type": "markdown",
   "metadata": {
    "deletable": false,
    "export_pdf": true,
    "manual_grade": true,
    "manual_problem_id": "global_pop_6"
   },
   "source": [
    "Yes. The number of children born each year appears to have steadily decreased over time, especially after 2000 as it approaches the replacement rate of the population, which would mean that any population growth due to new births is decreasing close to 0 from 1985 up to 2010."
   ]
  },
  {
   "cell_type": "markdown",
   "metadata": {
    "deletable": false,
    "editable": false
   },
   "source": [
    "It has been observed that lower fertility rates are often associated with lower child mortality rates. The link has been attributed to family planning: if parents can expect that their children will all survive into adulthood, then they will choose to have fewer children. We can see if this association is evident in Bangladesh by plotting the relationship between total fertility rate and [child mortality rate per 1000 children](https://en.wikipedia.org/wiki/Child_mortality)."
   ]
  },
  {
   "cell_type": "markdown",
   "metadata": {
    "deletable": false,
    "editable": false
   },
   "source": [
    "**Question 7.** Using both the `fertility` and `child_mortality` tables, draw a scatter diagram that has Bangladesh's total fertility on the horizontal axis and its child mortality on the vertical axis with one point for each year, starting with 1970.\n",
    "\n",
    "**The expression that draws the scatter diagram is provided for you; please don't change it.** Instead, create a table called `post_1969_fertility_and_child_mortality` with the appropriate column labels and data in order to generate the chart correctly. Use the label `Children per woman` to describe total fertility and the label `Child deaths per 1000 born` to describe child mortality.\n",
    "\n",
    "<!--\n",
    "BEGIN QUESTION\n",
    "name: q1_7\n",
    "manual: false\n",
    "-->"
   ]
  },
  {
   "cell_type": "code",
   "execution_count": 16,
   "metadata": {
    "deletable": false
   },
   "outputs": [
    {
     "data": {
      "image/png": "[encoded data removed]",
      "text/plain": [
       "<Figure size 360x360 with 1 Axes>"
      ]
     },
     "metadata": {},
     "output_type": "display_data"
    }
   ],
   "source": [
    "bgd_fertility = fertility.where(\"geo\", are.equal_to(\"bgd\"))\n",
    "bgd_child_mortality = child_mortality.where(\"geo\", are.equal_to(\"bgd\"))\n",
    "fertility_and_child_mortality = Table().with_columns(\"time\", bgd_fertility.column(\"time\"), \"Children per woman\", bgd_fertility.column(\"children_per_woman_total_fertility\"), \"Child deaths per 1000 born\", bgd_child_mortality.column(\"child_mortality_under_5_per_1000_born\"))\n",
    "post_1969_fertility_and_child_mortality = fertility_and_child_mortality.where(\"time\", are.above_or_equal_to(1970))\n",
    "\n",
    "post_1969_fertility_and_child_mortality.scatter('Children per woman', 'Child deaths per 1000 born') # You should *not* change this line."
   ]
  },
  {
   "cell_type": "code",
   "execution_count": 17,
   "metadata": {
    "deletable": false,
    "editable": false
   },
   "outputs": [
    {
     "name": "stdout",
     "output_type": "stream",
     "text": [
      "~~~~~~~~~~~~~~~~~~~~~~~~~~~~~~~~~~~~~~~~~~~~~~~~~~~~~~~~~~~~~~~~~~~~~\n",
      "Running tests\n",
      "\n",
      "---------------------------------------------------------------------\n",
      "Test summary\n",
      "    Passed: 2\n",
      "    Failed: 0\n",
      "[ooooooooook] 100.0% passed\n",
      "\n"
     ]
    }
   ],
   "source": [
    "ok.grade(\"q1_7\");"
   ]
  },
  {
   "cell_type": "markdown",
   "metadata": {
    "deletable": false,
    "editable": false
   },
   "source": [
    "**Question 8.** In one or two sentences, describe the association (if any) that is illustrated by this scatter diagram. Does the diagram show that reduced child mortality causes parents to choose to have fewer children?\n",
    "\n",
    "<!--\n",
    "BEGIN QUESTION\n",
    "name: q1_8\n",
    "manual: true\n",
    "-->\n",
    "<!-- EXPORT TO PDF -->"
   ]
  },
  {
   "cell_type": "markdown",
   "metadata": {
    "deletable": false,
    "export_pdf": true,
    "manual_grade": true,
    "manual_problem_id": "global_pop_8"
   },
   "source": [
    "There appears to be a strong linear correlation between infant mortality and the number of children born to women each year. As infant mortality increases, the number of children born each year increases, and the rates decrease when infant mortality decreases."
   ]
  },
  {
   "cell_type": "markdown",
   "metadata": {},
   "source": [
    "### Checkpoint (due Thursday 7/9)\n",
    "#### Congratulations, you have reached the checkpoint! Run the submit cell below to generate the checkpoint submission."
   ]
  },
  {
   "cell_type": "code",
   "execution_count": null,
   "metadata": {},
   "outputs": [],
   "source": [
    "_ = ok.submit()"
   ]
  },
  {
   "cell_type": "markdown",
   "metadata": {
    "deletable": false,
    "editable": false
   },
   "source": [
    "### The World\n",
    "\n",
    "The change observed in Bangladesh since 1970 can also be observed in many other developing countries: health services improve, life expectancy increases, and child mortality decreases. At the same time, the fertility rate often plummets, and so the population growth rate decreases despite increasing longevity."
   ]
  },
  {
   "cell_type": "markdown",
   "metadata": {
    "deletable": false,
    "editable": false
   },
   "source": [
    "Run the cell below to generate two overlaid histograms, one for 1960 and one for 2010, that show the distributions of total fertility rates for these two years among all 201 countries in the `fertility` table."
   ]
  },
  {
   "cell_type": "code",
   "execution_count": 18,
   "metadata": {
    "deletable": false
   },
   "outputs": [
    {
     "data": {
      "image/png": "[encoded data removed]",
      "text/plain": [
       "<Figure size 432x288 with 1 Axes>"
      ]
     },
     "metadata": {},
     "output_type": "display_data"
    }
   ],
   "source": [
    "Table().with_columns(\n",
    "    '1960', fertility.where('time', 1960).column(2),\n",
    "    '2010', fertility.where('time', 2010).column(2)\n",
    ").hist(bins=np.arange(0, 10, 0.5), unit='child per woman')\n",
    "_ = plots.xlabel('Children per woman')\n",
    "_ = plots.ylabel('Percent per children per woman')\n",
    "_ = plots.xticks(np.arange(10))"
   ]
  },
  {
   "cell_type": "markdown",
   "metadata": {
    "deletable": false,
    "editable": false
   },
   "source": [
    "**Question 9.** Assign `fertility_statements` to an array of the numbers of each statement below that can be correctly inferred from these histograms.\n",
    "1. About the same number of countries had a fertility rate between 3.5 and 4.5 in both 1960 and 2010.\n",
    "1. In 2010, about 40% of countries had a fertility rate between 1.5 and 2.\n",
    "1. In 1960, less than 20% of countries had a fertility rate below 3.\n",
    "1. More countries had a fertility rate above 3 in 1960 than in 2010.\n",
    "1. At least half of countries had a fertility rate between 5 and 8 in 1960.\n",
    "1. At least half of countries had a fertility rate below 3 in 2010.\n",
    "\n",
    "<!--\n",
    "BEGIN QUESTION\n",
    "name: q1_9\n",
    "-->"
   ]
  },
  {
   "cell_type": "code",
   "execution_count": 19,
   "metadata": {
    "deletable": false
   },
   "outputs": [],
   "source": [
    "fertility_statements = make_array(1, 2, 4, 5, 6)"
   ]
  },
  {
   "cell_type": "code",
   "execution_count": 20,
   "metadata": {
    "deletable": false,
    "editable": false
   },
   "outputs": [
    {
     "name": "stdout",
     "output_type": "stream",
     "text": [
      "~~~~~~~~~~~~~~~~~~~~~~~~~~~~~~~~~~~~~~~~~~~~~~~~~~~~~~~~~~~~~~~~~~~~~\n",
      "Running tests\n",
      "\n",
      "---------------------------------------------------------------------\n",
      "Test summary\n",
      "    Passed: 1\n",
      "    Failed: 0\n",
      "[ooooooooook] 100.0% passed\n",
      "\n"
     ]
    }
   ],
   "source": [
    "ok.grade(\"q1_9\");"
   ]
  },
  {
   "cell_type": "markdown",
   "metadata": {
    "deletable": false,
    "editable": false
   },
   "source": [
    "**Question 10.** Draw a line plot of the world population from 1800 through 2005. The world population is the sum of all the country's populations. \n",
    "\n",
    "<!--\n",
    "BEGIN QUESTION\n",
    "name: q1_10\n",
    "manual: true\n",
    "-->\n",
    "<!-- EXPORT TO PDF -->"
   ]
  },
  {
   "cell_type": "code",
   "execution_count": 21,
   "metadata": {
    "deletable": false,
    "export_pdf": true,
    "manual_grade": true,
    "manual_problem_id": "global_pop_10"
   },
   "outputs": [
    {
     "data": {
      "image/png": "[encoded data removed]",
      "text/plain": [
       "<Figure size 432x288 with 1 Axes>"
      ]
     },
     "metadata": {},
     "output_type": "display_data"
    }
   ],
   "source": [
    "#Fill in code here\n",
    "world_pop = population.group(\"time\", sum).where(\"time\", are.between(1800, 2006)).relabel(\"time\", \"Year\").relabel(\"population_total sum\", \"World Population\")\n",
    "world_pop.plot(\"Year\", \"World Population\")"
   ]
  },
  {
   "cell_type": "markdown",
   "metadata": {
    "deletable": false,
    "editable": false
   },
   "source": [
    "**Question 11.** Create a function `stats_for_year` that takes a `year` and returns a table of statistics. The table it returns should have four columns: `geo`, `population_total`, `children_per_woman_total_fertility`, and `child_mortality_under_5_per_1000_born`. Each row should contain one Alpha-3 country code and three statistics: population, fertility rate, and child mortality for that `year` from the `population`, `fertility` and `child_mortality` tables. Only include rows for which all three statistics are available for the country and year.\n",
    "\n",
    "In addition, restrict the result to country codes that appears in `big_50`, an array of the 50 most populous countries in 2010. This restriction will speed up computations later in the project.\n",
    "\n",
    "After you write `stats_for_year`, try calling `stats_for_year` on any year between 1960 and 2010. Try to understand the output of stats_for_year.\n",
    "\n",
    "*Hint*: The tests for this question are quite comprehensive, so if you pass the tests, your function is probably correct. However, without calling your function yourself and looking at the output, it will be very difficult to understand any problems you have, so try your best to write the function correctly and check that it works before you rely on the `ok` tests to confirm your work.\n",
    "\n",
    "<!--\n",
    "BEGIN QUESTION\n",
    "name: q1_11\n",
    "manual: false\n",
    "-->"
   ]
  },
  {
   "cell_type": "code",
   "execution_count": 155,
   "metadata": {
    "deletable": false
   },
   "outputs": [],
   "source": [
    "# We first create a population table that only includes the \n",
    "# 50 countries with the largest 2010 populations. We focus on \n",
    "# these 50 countries only so that plotting later will run faster.\n",
    "big_50 = population.where('time', are.equal_to(2010)).sort(\"population_total\", descending=True).take(np.arange(50)).column('geo')\n",
    "population_of_big_50 = population.where('time', are.above(1959)).where('geo', are.contained_in(big_50))\n",
    "\n",
    "def stats_for_year(year):\n",
    "    \"\"\"Return a table of the stats for each country that year.\"\"\"\n",
    "    p = population_of_big_50.where('time', are.equal_to(year)).drop('time')\n",
    "    f = fertility.where('time', are.equal_to(year)).drop('time')\n",
    "    c = child_mortality.where('time', are.equal_to(year)).drop('time')\n",
    "    \n",
    "    arr_g = make_array()\n",
    "    arr_p = make_array()\n",
    "    arr_f = make_array()\n",
    "    arr_c = make_array()\n",
    "    \n",
    "    np.set_printoptions(suppress=True)\n",
    "    for country in big_50:\n",
    "        if p.where(\"geo\", are.containing(country)) and f.where(\"geo\", are.containing(country)) and c.where(\"geo\", are.containing(country)):\n",
    "            arr_g = np.append(arr_g, country)\n",
    "            arr_p = np.append(arr_p, p.where(\"geo\", are.equal_to(country)).column(\"population_total\"))\n",
    "            arr_f = np.append(arr_f, f.where(\"geo\", are.equal_to(country)).column(\"children_per_woman_total_fertility\"))\n",
    "            arr_c = np.append(arr_c, c.where(\"geo\", are.equal_to(country)).column(\"child_mortality_under_5_per_1000_born\"))\n",
    "    \n",
    "    new_table = Table().with_columns(\"geo\", arr_g, \"population_total\", arr_p, \"children_per_woman_total_fertility\", arr_f, \"child_mortality_under_5_per_1000_born\", arr_c)\n",
    "    return new_table"
   ]
  },
  {
   "cell_type": "code",
   "execution_count": 156,
   "metadata": {
    "deletable": false,
    "editable": false
   },
   "outputs": [
    {
     "name": "stdout",
     "output_type": "stream",
     "text": [
      "~~~~~~~~~~~~~~~~~~~~~~~~~~~~~~~~~~~~~~~~~~~~~~~~~~~~~~~~~~~~~~~~~~~~~\n",
      "Running tests\n",
      "\n",
      "---------------------------------------------------------------------\n",
      "q1_11 > Suite 1 > Case 3\n",
      "\n",
      ">>> print(stats_for_year(1960).sort('geo').take(np.arange(5, 50, 5)))\n",
      "geo  | population_total | children_per_woman_total_fertility | child_mortality_under_5_per_1000_born\n",
      "chn  | 6.4445e+08       | 3.99                               | 309\n",
      "egy  | 2.70724e+07      | 6.63                               | 312.8\n",
      "gha  | 6.65228e+06      | 6.75                               | 210.9\n",
      "ita  | 4.9715e+07       | 2.37                               | 52\n",
      "mex  | 3.81741e+07      | 6.78                               | 142.9\n",
      "npl  | 1.00569e+07      | 5.99                               | 327.1\n",
      "prk  | 1.14242e+07      | 4.58                               | 127.3\n",
      "tur  | 2.75533e+07      | 6.3                                | 249\n",
      "uzb  | 8.78949e+06      | 6.71                               | 175.7\n",
      "\n",
      "# Error: expected\n",
      "#     geo  | population_total | children_per_woman_total_fertility | child_mortality_under_5_per_1000_born\n",
      "#     chn  | 644450173        | 3.99                               | 309\n",
      "#     egy  | 27072397         | 6.63                               | 312.8\n",
      "#     gha  | 6652285          | 6.75                               | 210.9\n",
      "#     ita  | 49714962         | 2.37                               | 52\n",
      "#     mex  | 38174114         | 6.78                               | 142.9\n",
      "#     npl  | 10056945         | 5.99                               | 327.1\n",
      "#     prk  | 11424179         | 4.58                               | 127.3\n",
      "#     tur  | 27553280         | 6.3                                | 249\n",
      "#     uzb  | 8789492          | 6.71                               | 175.7\n",
      "# but got\n",
      "#     geo  | population_total | children_per_woman_total_fertility | child_mortality_under_5_per_1000_born\n",
      "#     chn  | 6.4445e+08       | 3.99                               | 309\n",
      "#     egy  | 2.70724e+07      | 6.63                               | 312.8\n",
      "#     gha  | 6.65228e+06      | 6.75                               | 210.9\n",
      "#     ita  | 4.9715e+07       | 2.37                               | 52\n",
      "#     mex  | 3.81741e+07      | 6.78                               | 142.9\n",
      "#     npl  | 1.00569e+07      | 5.99                               | 327.1\n",
      "#     prk  | 1.14242e+07      | 4.58                               | 127.3\n",
      "#     tur  | 2.75533e+07      | 6.3                                | 249\n",
      "#     uzb  | 8.78949e+06      | 6.71                               | 175.7\n",
      "\n",
      "Run only this test case with \"python3 ok -q q1_11 --suite 1 --case 3\"\n",
      "---------------------------------------------------------------------\n",
      "Test summary\n",
      "    Passed: 2\n",
      "    Failed: 1\n",
      "[ooooook....] 66.7% passed\n",
      "\n"
     ]
    }
   ],
   "source": [
    "ok.grade(\"q1_11\");"
   ]
  },
  {
   "cell_type": "markdown",
   "metadata": {
    "deletable": false,
    "editable": false
   },
   "source": [
    "**Question 12.** Create a table called `pop_by_decade` with two columns called `decade` and `population`. It has a row for each `year` from 1960 to 2010 that starts a decade. The `population` column contains the total population of all countries included in the result of `stats_for_year(year)` for the first `year` of the decade. For example, 1960 is the first year of the 1960's decade. You should see that these countries contain most of the world's population.\n",
    "\n",
    "*Hint:* One approach is to define a function `pop_for_year` that computes this total population, then `apply` it to the `decade` column.  The `stats_for_year` function from the previous question may be useful here.\n",
    "\n",
    "This first test is just a sanity check for your helper function if you choose to use it. You will not lose points for not implementing the function `pop_for_year`.\n",
    "\n",
    "**Note:** The cell where you will generate the `pop_by_decade` table is below the cell where you can choose to define the helper function `pop_for_year`. You should define your `pop_by_decade` table in the cell that starts with the table `decades` being defined. \n",
    "\n",
    "<!--\n",
    "BEGIN QUESTION\n",
    "name: q1_12_0\n",
    "manual: false\n",
    "points: 0\n",
    "-->"
   ]
  },
  {
   "cell_type": "code",
   "execution_count": 70,
   "metadata": {},
   "outputs": [],
   "source": [
    "def pop_for_year(year):\n",
    "    return np.sum(stats_for_year(year).column(\"population_total\"))"
   ]
  },
  {
   "cell_type": "code",
   "execution_count": 71,
   "metadata": {
    "deletable": false,
    "editable": false
   },
   "outputs": [
    {
     "name": "stdout",
     "output_type": "stream",
     "text": [
      "~~~~~~~~~~~~~~~~~~~~~~~~~~~~~~~~~~~~~~~~~~~~~~~~~~~~~~~~~~~~~~~~~~~~~\n",
      "Running tests\n",
      "\n",
      "---------------------------------------------------------------------\n",
      "Test summary\n",
      "    Passed: 3\n",
      "    Failed: 0\n",
      "[ooooooooook] 100.0% passed\n",
      "\n"
     ]
    }
   ],
   "source": [
    "ok.grade(\"q1_12_0\");"
   ]
  },
  {
   "cell_type": "markdown",
   "metadata": {
    "deletable": false,
    "editable": false
   },
   "source": [
    "Now that you've defined your helper function (if you've chosen to do so), define the `pop_by_decade` table.\n",
    "\n",
    "<!--\n",
    "BEGIN QUESTION\n",
    "name: q1_12\n",
    "manual: false\n",
    "-->"
   ]
  },
  {
   "cell_type": "code",
   "execution_count": 72,
   "metadata": {
    "deletable": false
   },
   "outputs": [
    {
     "data": {
      "text/html": [
       "<table border=\"1\" class=\"dataframe\">\n",
       "    <thead>\n",
       "        <tr>\n",
       "            <th>decade</th> <th>population</th>\n",
       "        </tr>\n",
       "    </thead>\n",
       "    <tbody>\n",
       "        <tr>\n",
       "            <td>1960  </td> <td>2,624,944,597.00</td>\n",
       "        </tr>\n",
       "        <tr>\n",
       "            <td>1970  </td> <td>3,211,487,418.00</td>\n",
       "        </tr>\n",
       "        <tr>\n",
       "            <td>1980  </td> <td>3,880,722,003.00</td>\n",
       "        </tr>\n",
       "        <tr>\n",
       "            <td>1990  </td> <td>4,648,434,558.00</td>\n",
       "        </tr>\n",
       "        <tr>\n",
       "            <td>2000  </td> <td>5,367,553,063.00</td>\n",
       "        </tr>\n",
       "        <tr>\n",
       "            <td>2010  </td> <td>6,040,810,517.00</td>\n",
       "        </tr>\n",
       "    </tbody>\n",
       "</table>"
      ],
      "text/plain": [
       "decade | population\n",
       "1960   | 2,624,944,597.00\n",
       "1970   | 3,211,487,418.00\n",
       "1980   | 3,880,722,003.00\n",
       "1990   | 4,648,434,558.00\n",
       "2000   | 5,367,553,063.00\n",
       "2010   | 6,040,810,517.00"
      ]
     },
     "execution_count": 72,
     "metadata": {},
     "output_type": "execute_result"
    }
   ],
   "source": [
    "decades = Table().with_column('decade', np.arange(1960, 2011, 10))\n",
    "pops = make_array()\n",
    "for i in np.arange(1960, 2011, 10):\n",
    "    pops = np.append(pops, np.sum(stats_for_year(i).column(\"population_total\")))\n",
    "pop_by_decade = Table().with_columns(\"decade\", np.arange(1960, 2011, 10), \"population\", pops)\n",
    "pop_by_decade.set_format(1, NumberFormatter)"
   ]
  },
  {
   "cell_type": "code",
   "execution_count": 73,
   "metadata": {
    "deletable": false,
    "editable": false
   },
   "outputs": [
    {
     "name": "stdout",
     "output_type": "stream",
     "text": [
      "~~~~~~~~~~~~~~~~~~~~~~~~~~~~~~~~~~~~~~~~~~~~~~~~~~~~~~~~~~~~~~~~~~~~~\n",
      "Running tests\n",
      "\n",
      "---------------------------------------------------------------------\n",
      "Test summary\n",
      "    Passed: 2\n",
      "    Failed: 0\n",
      "[ooooooooook] 100.0% passed\n",
      "\n"
     ]
    }
   ],
   "source": [
    "ok.grade(\"q1_12\");"
   ]
  },
  {
   "cell_type": "markdown",
   "metadata": {
    "deletable": false,
    "editable": false
   },
   "source": [
    "The `countries` table describes various characteristics of countries. The `country` column contains the same codes as the `geo` column in each of the other data tables (`population`, `fertility`, and `child_mortality`). The `world_6region` column classifies each country into a region of the world. Run the cell below to inspect the data."
   ]
  },
  {
   "cell_type": "code",
   "execution_count": 83,
   "metadata": {},
   "outputs": [
    {
     "data": {
      "text/html": [
       "<table border=\"1\" class=\"dataframe\">\n",
       "    <thead>\n",
       "        <tr>\n",
       "            <th>country</th> <th>name</th> <th>world_6region</th>\n",
       "        </tr>\n",
       "    </thead>\n",
       "    <tbody>\n",
       "        <tr>\n",
       "            <td>afg      </td> <td>Afghanistan          </td> <td>south_asia              </td>\n",
       "        </tr>\n",
       "        <tr>\n",
       "            <td>akr_a_dhe</td> <td>Akrotiri and Dhekelia</td> <td>europe_central_asia     </td>\n",
       "        </tr>\n",
       "        <tr>\n",
       "            <td>alb      </td> <td>Albania              </td> <td>europe_central_asia     </td>\n",
       "        </tr>\n",
       "        <tr>\n",
       "            <td>dza      </td> <td>Algeria              </td> <td>middle_east_north_africa</td>\n",
       "        </tr>\n",
       "        <tr>\n",
       "            <td>asm      </td> <td>American Samoa       </td> <td>east_asia_pacific       </td>\n",
       "        </tr>\n",
       "        <tr>\n",
       "            <td>and      </td> <td>Andorra              </td> <td>europe_central_asia     </td>\n",
       "        </tr>\n",
       "        <tr>\n",
       "            <td>ago      </td> <td>Angola               </td> <td>sub_saharan_africa      </td>\n",
       "        </tr>\n",
       "        <tr>\n",
       "            <td>aia      </td> <td>Anguilla             </td> <td>america                 </td>\n",
       "        </tr>\n",
       "        <tr>\n",
       "            <td>atg      </td> <td>Antigua and Barbuda  </td> <td>america                 </td>\n",
       "        </tr>\n",
       "        <tr>\n",
       "            <td>arg      </td> <td>Argentina            </td> <td>america                 </td>\n",
       "        </tr>\n",
       "    </tbody>\n",
       "</table>\n",
       "<p>... (245 rows omitted)</p>"
      ],
      "text/plain": [
       "country   | name                  | world_6region\n",
       "afg       | Afghanistan           | south_asia\n",
       "akr_a_dhe | Akrotiri and Dhekelia | europe_central_asia\n",
       "alb       | Albania               | europe_central_asia\n",
       "dza       | Algeria               | middle_east_north_africa\n",
       "asm       | American Samoa        | east_asia_pacific\n",
       "and       | Andorra               | europe_central_asia\n",
       "ago       | Angola                | sub_saharan_africa\n",
       "aia       | Anguilla              | america\n",
       "atg       | Antigua and Barbuda   | america\n",
       "arg       | Argentina             | america\n",
       "... (245 rows omitted)"
      ]
     },
     "execution_count": 83,
     "metadata": {},
     "output_type": "execute_result"
    }
   ],
   "source": [
    "countries = Table.read_table('countries.csv').where('country', are.contained_in(population.group('geo').column('geo')))\n",
    "countries.select('country', 'name', 'world_6region')"
   ]
  },
  {
   "cell_type": "markdown",
   "metadata": {
    "deletable": false,
    "editable": false
   },
   "source": [
    "**Question 13.** Create a table called `region_counts` that has two columns, `region` and `count`. It should contain two columns: a region column and a count column that contains the number of countries in each region that appear in the result of `stats_for_year(1960)`. For example, one row would have `south_asia` as its `world_6region` value and an integer as its `count` value: the number of large South Asian countries for which we have population, fertility, and child mortality numbers from 1960.\n",
    "\n",
    "<!--\n",
    "BEGIN QUESTION\n",
    "name: q1_13\n",
    "-->"
   ]
  },
  {
   "cell_type": "code",
   "execution_count": 87,
   "metadata": {
    "deletable": false
   },
   "outputs": [
    {
     "data": {
      "text/html": [
       "<table border=\"1\" class=\"dataframe\">\n",
       "    <thead>\n",
       "        <tr>\n",
       "            <th>region</th> <th>count</th>\n",
       "        </tr>\n",
       "    </thead>\n",
       "    <tbody>\n",
       "        <tr>\n",
       "            <td>america                 </td> <td>8    </td>\n",
       "        </tr>\n",
       "        <tr>\n",
       "            <td>east_asia_pacific       </td> <td>10   </td>\n",
       "        </tr>\n",
       "        <tr>\n",
       "            <td>europe_central_asia     </td> <td>10   </td>\n",
       "        </tr>\n",
       "        <tr>\n",
       "            <td>middle_east_north_africa</td> <td>7    </td>\n",
       "        </tr>\n",
       "        <tr>\n",
       "            <td>south_asia              </td> <td>5    </td>\n",
       "        </tr>\n",
       "        <tr>\n",
       "            <td>sub_saharan_africa      </td> <td>10   </td>\n",
       "        </tr>\n",
       "    </tbody>\n",
       "</table>"
      ],
      "text/plain": [
       "region                   | count\n",
       "america                  | 8\n",
       "east_asia_pacific        | 10\n",
       "europe_central_asia      | 10\n",
       "middle_east_north_africa | 7\n",
       "south_asia               | 5\n",
       "sub_saharan_africa       | 10"
      ]
     },
     "execution_count": 87,
     "metadata": {},
     "output_type": "execute_result"
    }
   ],
   "source": [
    "arr_countries = stats_for_year(1960).column(\"geo\")\n",
    "region_counts = countries.where(\"country\", are.contained_in(arr_countries)).group(\"world_6region\").relabel(\"world_6region\", \"region\")\n",
    "region_counts"
   ]
  },
  {
   "cell_type": "code",
   "execution_count": 88,
   "metadata": {
    "deletable": false,
    "editable": false
   },
   "outputs": [
    {
     "name": "stdout",
     "output_type": "stream",
     "text": [
      "~~~~~~~~~~~~~~~~~~~~~~~~~~~~~~~~~~~~~~~~~~~~~~~~~~~~~~~~~~~~~~~~~~~~~\n",
      "Running tests\n",
      "\n",
      "---------------------------------------------------------------------\n",
      "Test summary\n",
      "    Passed: 2\n",
      "    Failed: 0\n",
      "[ooooooooook] 100.0% passed\n",
      "\n"
     ]
    }
   ],
   "source": [
    "ok.grade(\"q1_13\");"
   ]
  },
  {
   "cell_type": "markdown",
   "metadata": {
    "deletable": false,
    "editable": false
   },
   "source": [
    "The following scatter diagram compares total fertility rate and child mortality rate for each country in 1960. The area of each dot represents the population of the country, and the color represents its region of the world. Run the cell. Do you think you can identify any of the dots?"
   ]
  },
  {
   "cell_type": "code",
   "execution_count": 89,
   "metadata": {
    "deletable": false
   },
   "outputs": [
    {
     "data": {
      "image/png": "[encoded data removed]",
      "text/plain": [
       "<Figure size 360x360 with 1 Axes>"
      ]
     },
     "metadata": {},
     "output_type": "display_data"
    }
   ],
   "source": [
    "from functools import lru_cache as cache\n",
    "\n",
    "# This cache annotation makes sure that if the same year\n",
    "# is passed as an argument twice, the work of computing\n",
    "# the result is only carried out once.\n",
    "@cache(None)\n",
    "def stats_relabeled(year):\n",
    "    \"\"\"Relabeled and cached version of stats_for_year.\"\"\"\n",
    "    return stats_for_year(year).relabel(2, 'Children per woman').relabel(3, 'Child deaths per 1000 born')\n",
    "\n",
    "def fertility_vs_child_mortality(year):\n",
    "    \"\"\"Draw a color scatter diagram comparing child mortality and fertility.\"\"\"\n",
    "    with_region = stats_relabeled(year).join('geo', countries.select('country', 'world_6region'), 'country')\n",
    "    with_region.scatter(2, 3, sizes=1, group=4, s=500)\n",
    "    plots.xlim(0,10)\n",
    "    plots.ylim(-50, 500)\n",
    "    plots.title(year)\n",
    "\n",
    "fertility_vs_child_mortality(1960)"
   ]
  },
  {
   "cell_type": "markdown",
   "metadata": {
    "deletable": false,
    "editable": false
   },
   "source": [
    "**Question 14.** Assign `scatter_statements` to an array of the numbers of each statement below that can be inferred from this scatter diagram for 1960. \n",
    "1. As a whole, the `europe_central_asia` region had the lowest child mortality rate.\n",
    "1. The lowest child mortality rate of any country was from an `east_asia_pacific` country.\n",
    "1. Most countries had a fertility rate above 5.\n",
    "1. There was an association between child mortality and fertility.\n",
    "1. The two largest countries by population also had the two highest child mortality rate.\n",
    "\n",
    "<!--\n",
    "BEGIN QUESTION\n",
    "name: q1_14\n",
    "-->"
   ]
  },
  {
   "cell_type": "code",
   "execution_count": 90,
   "metadata": {
    "deletable": false
   },
   "outputs": [],
   "source": [
    "scatter_statements = make_array(1, 3, 4)"
   ]
  },
  {
   "cell_type": "code",
   "execution_count": 91,
   "metadata": {
    "deletable": false,
    "editable": false
   },
   "outputs": [
    {
     "name": "stdout",
     "output_type": "stream",
     "text": [
      "~~~~~~~~~~~~~~~~~~~~~~~~~~~~~~~~~~~~~~~~~~~~~~~~~~~~~~~~~~~~~~~~~~~~~\n",
      "Running tests\n",
      "\n",
      "---------------------------------------------------------------------\n",
      "Test summary\n",
      "    Passed: 1\n",
      "    Failed: 0\n",
      "[ooooooooook] 100.0% passed\n",
      "\n"
     ]
    }
   ],
   "source": [
    "ok.grade(\"q1_14\");"
   ]
  },
  {
   "cell_type": "markdown",
   "metadata": {
    "deletable": false
   },
   "source": [
    "The result of the cell below is interactive. Drag the slider to the right to see how countries have changed over time. You'll find that the great divide between so-called \"Western\" and \"developing\" countries that existed in the 1960's has nearly disappeared. This shift in fertility rates is the reason that the global population is expected to grow more slowly in the 21st century than it did in the 19th and 20th centuries.\n",
    "\n",
    "**Note:** Don't worry if a red warning pops up when running the cell below. You'll still be able to run the cell!"
   ]
  },
  {
   "cell_type": "code",
   "execution_count": 93,
   "metadata": {
    "deletable": false,
    "scrolled": false
   },
   "outputs": [
    {
     "data": {
      "application/vnd.jupyter.widget-view+json": {
       "model_id": "db8bda13b6414cf086752b6651851e3e",
       "version_major": 2,
       "version_minor": 0
      },
      "text/plain": [
       "interactive(children=(IntSlider(value=1960, description='year', max=2015, min=1960), Output()), _dom_classes=(…"
      ]
     },
     "metadata": {},
     "output_type": "display_data"
    }
   ],
   "source": [
    "import ipywidgets as widgets\n",
    "\n",
    "# This part takes a few minutes to run because it \n",
    "# computes 55 tables in advance: one for each year.\n",
    "Table().with_column('Year', np.arange(1960, 2016)).apply(stats_relabeled, 'Year')\n",
    "\n",
    "_ = widgets.interact(fertility_vs_child_mortality, \n",
    "                     year=widgets.IntSlider(min=1960, max=2015, value=1960))"
   ]
  },
  {
   "cell_type": "markdown",
   "metadata": {
    "deletable": false,
    "editable": false
   },
   "source": [
    "Now is a great time to take a break and watch the same data presented by [Hans Rosling in a 2010 TEDx talk](https://www.gapminder.org/videos/reducing-child-mortality-a-moral-and-environmental-imperative) with smoother animation and witty commentary."
   ]
  },
  {
   "cell_type": "markdown",
   "metadata": {
    "deletable": false,
    "editable": false
   },
   "source": [
    "## 2. Global Poverty\n"
   ]
  },
  {
   "cell_type": "markdown",
   "metadata": {
    "deletable": false,
    "editable": false
   },
   "source": [
    "In 1800, 85% of the world's 1 billion people lived in *extreme poverty*, defined by the United Nations as \"a condition characterized by severe deprivation of basic human needs, including food, safe drinking water, sanitation facilities, health, shelter, education and information.\" A common measure of extreme poverty is a person living on less than \\$1.25 per day.\n",
    "\n",
    "In 2018, the proportion of people living in extreme poverty was estimated to be 8%. Although the world rate of extreme poverty has declined consistently for hundreds of years, the number of people living in extreme poverty is still over 600 million. The United Nations recently adopted an [ambitious goal](http://www.un.org/sustainabledevelopment/poverty/): \"By 2030, eradicate extreme poverty for all people everywhere.\"\n",
    "In this section, we will examine extreme poverty trends around the world."
   ]
  },
  {
   "cell_type": "markdown",
   "metadata": {
    "deletable": false,
    "editable": false
   },
   "source": [
    "First, load the population and poverty rate by country and year and the country descriptions. While the `population` table has values for every recent year for many countries, the `poverty` table only includes certain years for each country in which a measurement of the rate of extreme poverty was available."
   ]
  },
  {
   "cell_type": "code",
   "execution_count": 23,
   "metadata": {},
   "outputs": [
    {
     "data": {
      "text/html": [
       "<table border=\"1\" class=\"dataframe\">\n",
       "    <thead>\n",
       "        <tr>\n",
       "            <th>geo</th> <th>time</th> <th>extreme_poverty_percent_people_below_125_a_day</th>\n",
       "        </tr>\n",
       "    </thead>\n",
       "    <tbody>\n",
       "        <tr>\n",
       "            <td>alb </td> <td>1996</td> <td>0.2                                           </td>\n",
       "        </tr>\n",
       "        <tr>\n",
       "            <td>alb </td> <td>2002</td> <td>0.73                                          </td>\n",
       "        </tr>\n",
       "        <tr>\n",
       "            <td>alb </td> <td>2004</td> <td>0.53                                          </td>\n",
       "        </tr>\n",
       "    </tbody>\n",
       "</table>\n",
       "<p>... (1096 rows omitted)</p>"
      ],
      "text/plain": [
       "<IPython.core.display.HTML object>"
      ]
     },
     "metadata": {},
     "output_type": "display_data"
    }
   ],
   "source": [
    "population = Table.read_table('population.csv')\n",
    "countries = Table.read_table('countries.csv').where('country', are.contained_in(population.group('geo').column('geo')))\n",
    "poverty = Table.read_table('poverty.csv')\n",
    "poverty.show(3)"
   ]
  },
  {
   "cell_type": "markdown",
   "metadata": {
    "deletable": false,
    "editable": false
   },
   "source": [
    "**Question 1.** Assign `latest_poverty` to a three-column table with one row for each country that appears in the `poverty` table. The first column should contain the 3-letter code for the country. The second column should contain the most recent year for which an extreme poverty rate is available for the country. The third column should contain the poverty rate in that year. **Do not change the last line, so that the labels of your table are set correctly.**\n",
    "\n",
    "*Hint*: think about how ```group``` works: it does a sequential search of the table (from top to bottom) and collects values in the array in the order in which they appear, and then applies a function to that array. The `first` function may be helpful, but you are not required to use it.\n",
    "\n",
    "<!--\n",
    "BEGIN QUESTION\n",
    "name: q2_1\n",
    "-->"
   ]
  },
  {
   "cell_type": "code",
   "execution_count": 98,
   "metadata": {
    "deletable": false
   },
   "outputs": [
    {
     "data": {
      "text/html": [
       "<table border=\"1\" class=\"dataframe\">\n",
       "    <thead>\n",
       "        <tr>\n",
       "            <th>geo</th> <th>time</th> <th>poverty_percent</th>\n",
       "        </tr>\n",
       "    </thead>\n",
       "    <tbody>\n",
       "        <tr>\n",
       "            <td>ago </td> <td>2009</td> <td>43.37          </td>\n",
       "        </tr>\n",
       "        <tr>\n",
       "            <td>alb </td> <td>2012</td> <td>0.46           </td>\n",
       "        </tr>\n",
       "        <tr>\n",
       "            <td>arg </td> <td>2011</td> <td>1.41           </td>\n",
       "        </tr>\n",
       "        <tr>\n",
       "            <td>arm </td> <td>2012</td> <td>1.75           </td>\n",
       "        </tr>\n",
       "        <tr>\n",
       "            <td>aus </td> <td>2003</td> <td>1.36           </td>\n",
       "        </tr>\n",
       "        <tr>\n",
       "            <td>aut </td> <td>2004</td> <td>0.34           </td>\n",
       "        </tr>\n",
       "        <tr>\n",
       "            <td>aze </td> <td>2008</td> <td>0.31           </td>\n",
       "        </tr>\n",
       "        <tr>\n",
       "            <td>bdi </td> <td>2006</td> <td>81.32          </td>\n",
       "        </tr>\n",
       "        <tr>\n",
       "            <td>bel </td> <td>2000</td> <td>0.5            </td>\n",
       "        </tr>\n",
       "        <tr>\n",
       "            <td>ben </td> <td>2012</td> <td>51.61          </td>\n",
       "        </tr>\n",
       "    </tbody>\n",
       "</table>\n",
       "<p>... (135 rows omitted)</p>"
      ],
      "text/plain": [
       "geo  | time | poverty_percent\n",
       "ago  | 2009 | 43.37\n",
       "alb  | 2012 | 0.46\n",
       "arg  | 2011 | 1.41\n",
       "arm  | 2012 | 1.75\n",
       "aus  | 2003 | 1.36\n",
       "aut  | 2004 | 0.34\n",
       "aze  | 2008 | 0.31\n",
       "bdi  | 2006 | 81.32\n",
       "bel  | 2000 | 0.5\n",
       "ben  | 2012 | 51.61\n",
       "... (135 rows omitted)"
      ]
     },
     "execution_count": 98,
     "metadata": {},
     "output_type": "execute_result"
    }
   ],
   "source": [
    "def first(values):\n",
    "    return values.item(0)\n",
    "\n",
    "latest_poverty = poverty.sort(\"time\", descending=True).group(\"geo\", first)\n",
    "\n",
    "latest_poverty = latest_poverty.relabeled(0, 'geo').relabeled(1, 'time').relabeled(2, 'poverty_percent') # You should *not* change this line.\n",
    "latest_poverty"
   ]
  },
  {
   "cell_type": "code",
   "execution_count": 99,
   "metadata": {
    "deletable": false,
    "editable": false
   },
   "outputs": [
    {
     "name": "stdout",
     "output_type": "stream",
     "text": [
      "~~~~~~~~~~~~~~~~~~~~~~~~~~~~~~~~~~~~~~~~~~~~~~~~~~~~~~~~~~~~~~~~~~~~~\n",
      "Running tests\n",
      "\n",
      "---------------------------------------------------------------------\n",
      "Test summary\n",
      "    Passed: 2\n",
      "    Failed: 0\n",
      "[ooooooooook] 100.0% passed\n",
      "\n"
     ]
    }
   ],
   "source": [
    "ok.grade(\"q2_1\");"
   ]
  },
  {
   "cell_type": "markdown",
   "metadata": {
    "deletable": false,
    "editable": false
   },
   "source": [
    "**Question 2.** Using both `latest_poverty` and `population`, create a four-column table called `recent_poverty_total` with one row for each country in `latest_poverty`. The four columns should have the following labels and contents:\n",
    "1. `geo` contains the 3-letter country code,\n",
    "1. `poverty_percent` contains the most recent poverty percent,\n",
    "1. `population_total` contains the population of the country in 2010,\n",
    "1. `poverty_total` contains the number of people in poverty **rounded to the nearest integer**, based on the 2010 population and most recent poverty rate.\n",
    "\n",
    "<!--\n",
    "BEGIN QUESTION\n",
    "name: q2_2\n",
    "-->"
   ]
  },
  {
   "cell_type": "code",
   "execution_count": 114,
   "metadata": {
    "deletable": false
   },
   "outputs": [
    {
     "data": {
      "text/html": [
       "<table border=\"1\" class=\"dataframe\">\n",
       "    <thead>\n",
       "        <tr>\n",
       "            <th>geo</th> <th>poverty_percent</th> <th>population_total</th> <th>poverty_total</th>\n",
       "        </tr>\n",
       "    </thead>\n",
       "    <tbody>\n",
       "        <tr>\n",
       "            <td>ago </td> <td>43.37          </td> <td>21219954        </td> <td>9.20309e+06  </td>\n",
       "        </tr>\n",
       "        <tr>\n",
       "            <td>alb </td> <td>0.46           </td> <td>2901883         </td> <td>13349        </td>\n",
       "        </tr>\n",
       "        <tr>\n",
       "            <td>arg </td> <td>1.41           </td> <td>41222875        </td> <td>581243       </td>\n",
       "        </tr>\n",
       "        <tr>\n",
       "            <td>arm </td> <td>1.75           </td> <td>2963496         </td> <td>51861        </td>\n",
       "        </tr>\n",
       "        <tr>\n",
       "            <td>aus </td> <td>1.36           </td> <td>22162863        </td> <td>301415       </td>\n",
       "        </tr>\n",
       "        <tr>\n",
       "            <td>aut </td> <td>0.34           </td> <td>8391986         </td> <td>28533        </td>\n",
       "        </tr>\n",
       "        <tr>\n",
       "            <td>aze </td> <td>0.31           </td> <td>9099893         </td> <td>28210        </td>\n",
       "        </tr>\n",
       "        <tr>\n",
       "            <td>bdi </td> <td>81.32          </td> <td>9461117         </td> <td>7.69378e+06  </td>\n",
       "        </tr>\n",
       "        <tr>\n",
       "            <td>bel </td> <td>0.5            </td> <td>10929978        </td> <td>54650        </td>\n",
       "        </tr>\n",
       "        <tr>\n",
       "            <td>ben </td> <td>51.61          </td> <td>9509798         </td> <td>4.90801e+06  </td>\n",
       "        </tr>\n",
       "    </tbody>\n",
       "</table>\n",
       "<p>... (135 rows omitted)</p>"
      ],
      "text/plain": [
       "geo  | poverty_percent | population_total | poverty_total\n",
       "ago  | 43.37           | 21219954         | 9.20309e+06\n",
       "alb  | 0.46            | 2901883          | 13349\n",
       "arg  | 1.41            | 41222875         | 581243\n",
       "arm  | 1.75            | 2963496          | 51861\n",
       "aus  | 1.36            | 22162863         | 301415\n",
       "aut  | 0.34            | 8391986          | 28533\n",
       "aze  | 0.31            | 9099893          | 28210\n",
       "bdi  | 81.32           | 9461117          | 7.69378e+06\n",
       "bel  | 0.5             | 10929978         | 54650\n",
       "ben  | 51.61           | 9509798          | 4.90801e+06\n",
       "... (135 rows omitted)"
      ]
     },
     "execution_count": 114,
     "metadata": {},
     "output_type": "execute_result"
    }
   ],
   "source": [
    "y2010pop = population.where(\"time\", are.equal_to(2010)).where(\"geo\", are.contained_in(latest_poverty.column(\"geo\"))).sort(\"geo\")\n",
    "poverty_and_pop = latest_poverty.drop(\"time\").sort(\"geo\").with_column(\"population_total\", y2010pop.column(\"population_total\"))\n",
    "recent_poverty_total = poverty_and_pop.with_column(\"poverty_total\", np.round(poverty_and_pop.column(\"population_total\") * poverty_and_pop.column(\"poverty_percent\") / 100))\n",
    "recent_poverty_total"
   ]
  },
  {
   "cell_type": "code",
   "execution_count": 115,
   "metadata": {
    "deletable": false,
    "editable": false
   },
   "outputs": [
    {
     "name": "stdout",
     "output_type": "stream",
     "text": [
      "~~~~~~~~~~~~~~~~~~~~~~~~~~~~~~~~~~~~~~~~~~~~~~~~~~~~~~~~~~~~~~~~~~~~~\n",
      "Running tests\n",
      "\n",
      "---------------------------------------------------------------------\n",
      "Test summary\n",
      "    Passed: 3\n",
      "    Failed: 0\n",
      "[ooooooooook] 100.0% passed\n",
      "\n"
     ]
    }
   ],
   "source": [
    "ok.grade(\"q2_2\");"
   ]
  },
  {
   "cell_type": "markdown",
   "metadata": {
    "deletable": false,
    "editable": false
   },
   "source": [
    "**Question 3.** Assign the name `poverty_percent` to the known percentage of the world’s 2010 population that were living in extreme poverty. Assume that the `poverty_total` numbers in the `recent_poverty_total` table describe **all** people in 2010 living in extreme poverty. You should find a number that is above the 2018 global estimate of 8%, since many country-specific poverty rates are older than 2018.\n",
    "\n",
    "*Hint*: The sum of the `population_total` column in the `recent_poverty_total` table is not the world population, because only a subset of the world's countries are included in the `recent_poverty_total` table (only some countries have known poverty rates). Use the `population` table to compute the world's 2010 total population..\n",
    "\n",
    "<!--\n",
    "BEGIN QUESTION\n",
    "name: q2_3\n",
    "-->"
   ]
  },
  {
   "cell_type": "code",
   "execution_count": 128,
   "metadata": {
    "deletable": false
   },
   "outputs": [
    {
     "data": {
      "text/plain": [
       "14.0"
      ]
     },
     "execution_count": 128,
     "metadata": {},
     "output_type": "execute_result"
    }
   ],
   "source": [
    "poverty_percent = round(sum(recent_poverty_total.column(\"poverty_total\")) / sum(population.where(\"time\", are.equal_to(2010)).column(\"population_total\")) * 100)\n",
    "poverty_percent"
   ]
  },
  {
   "cell_type": "code",
   "execution_count": 129,
   "metadata": {
    "deletable": false,
    "editable": false
   },
   "outputs": [
    {
     "name": "stdout",
     "output_type": "stream",
     "text": [
      "~~~~~~~~~~~~~~~~~~~~~~~~~~~~~~~~~~~~~~~~~~~~~~~~~~~~~~~~~~~~~~~~~~~~~\n",
      "Running tests\n",
      "\n",
      "---------------------------------------------------------------------\n",
      "Test summary\n",
      "    Passed: 1\n",
      "    Failed: 0\n",
      "[ooooooooook] 100.0% passed\n",
      "\n"
     ]
    }
   ],
   "source": [
    "ok.grade(\"q2_3\");"
   ]
  },
  {
   "cell_type": "markdown",
   "metadata": {
    "deletable": false,
    "editable": false
   },
   "source": [
    "The `countries` table includes not only the name and region of countries, but also their positions on the globe."
   ]
  },
  {
   "cell_type": "code",
   "execution_count": 130,
   "metadata": {
    "deletable": false,
    "editable": false
   },
   "outputs": [
    {
     "data": {
      "text/html": [
       "<table border=\"1\" class=\"dataframe\">\n",
       "    <thead>\n",
       "        <tr>\n",
       "            <th>country</th> <th>name</th> <th>world_4region</th> <th>latitude</th> <th>longitude</th>\n",
       "        </tr>\n",
       "    </thead>\n",
       "    <tbody>\n",
       "        <tr>\n",
       "            <td>afg      </td> <td>Afghanistan          </td> <td>asia         </td> <td>33      </td> <td>66       </td>\n",
       "        </tr>\n",
       "        <tr>\n",
       "            <td>akr_a_dhe</td> <td>Akrotiri and Dhekelia</td> <td>europe       </td> <td>nan     </td> <td>nan      </td>\n",
       "        </tr>\n",
       "        <tr>\n",
       "            <td>alb      </td> <td>Albania              </td> <td>europe       </td> <td>41      </td> <td>20       </td>\n",
       "        </tr>\n",
       "        <tr>\n",
       "            <td>dza      </td> <td>Algeria              </td> <td>africa       </td> <td>28      </td> <td>3        </td>\n",
       "        </tr>\n",
       "        <tr>\n",
       "            <td>asm      </td> <td>American Samoa       </td> <td>asia         </td> <td>-11.056 </td> <td>-171.082 </td>\n",
       "        </tr>\n",
       "        <tr>\n",
       "            <td>and      </td> <td>Andorra              </td> <td>europe       </td> <td>42.5078 </td> <td>1.52109  </td>\n",
       "        </tr>\n",
       "        <tr>\n",
       "            <td>ago      </td> <td>Angola               </td> <td>africa       </td> <td>-12.5   </td> <td>18.5     </td>\n",
       "        </tr>\n",
       "        <tr>\n",
       "            <td>aia      </td> <td>Anguilla             </td> <td>americas     </td> <td>18.2167 </td> <td>-63.05   </td>\n",
       "        </tr>\n",
       "        <tr>\n",
       "            <td>atg      </td> <td>Antigua and Barbuda  </td> <td>americas     </td> <td>17.05   </td> <td>-61.8    </td>\n",
       "        </tr>\n",
       "        <tr>\n",
       "            <td>arg      </td> <td>Argentina            </td> <td>americas     </td> <td>-34     </td> <td>-64      </td>\n",
       "        </tr>\n",
       "    </tbody>\n",
       "</table>\n",
       "<p>... (245 rows omitted)</p>"
      ],
      "text/plain": [
       "country   | name                  | world_4region | latitude | longitude\n",
       "afg       | Afghanistan           | asia          | 33       | 66\n",
       "akr_a_dhe | Akrotiri and Dhekelia | europe        | nan      | nan\n",
       "alb       | Albania               | europe        | 41       | 20\n",
       "dza       | Algeria               | africa        | 28       | 3\n",
       "asm       | American Samoa        | asia          | -11.056  | -171.082\n",
       "and       | Andorra               | europe        | 42.5078  | 1.52109\n",
       "ago       | Angola                | africa        | -12.5    | 18.5\n",
       "aia       | Anguilla              | americas      | 18.2167  | -63.05\n",
       "atg       | Antigua and Barbuda   | americas      | 17.05    | -61.8\n",
       "arg       | Argentina             | americas      | -34      | -64\n",
       "... (245 rows omitted)"
      ]
     },
     "execution_count": 130,
     "metadata": {},
     "output_type": "execute_result"
    }
   ],
   "source": [
    "countries.select('country', 'name', 'world_4region', 'latitude', 'longitude')"
   ]
  },
  {
   "cell_type": "markdown",
   "metadata": {
    "deletable": false,
    "editable": false
   },
   "source": [
    "**Question 4.** Using both `countries` and `recent_poverty_total`, create a five-column table called `poverty_map` with one row for every country in `recent_poverty_total`.  The five columns should have the following labels and contents:\n",
    "1. `latitude` contains the country's latitude,\n",
    "1. `longitude` contains the country's longitude,\n",
    "1. `name` contains the country's name,\n",
    "1. `region` contains the country's region from the `world_4region` column of `countries`,\n",
    "1. `poverty_total` contains the country's poverty total.\n",
    "\n",
    "<!--\n",
    "BEGIN QUESTION\n",
    "name: q2_4\n",
    "-->"
   ]
  },
  {
   "cell_type": "code",
   "execution_count": 134,
   "metadata": {
    "deletable": false
   },
   "outputs": [
    {
     "data": {
      "text/html": [
       "<table border=\"1\" class=\"dataframe\">\n",
       "    <thead>\n",
       "        <tr>\n",
       "            <th>latitude</th> <th>longitude</th> <th>name</th> <th>region</th> <th>poverty_total</th>\n",
       "        </tr>\n",
       "    </thead>\n",
       "    <tbody>\n",
       "        <tr>\n",
       "            <td>-12.5   </td> <td>18.5     </td> <td>ago </td> <td>africa  </td> <td>9.20309e+06  </td>\n",
       "        </tr>\n",
       "        <tr>\n",
       "            <td>41      </td> <td>20       </td> <td>alb </td> <td>europe  </td> <td>13349        </td>\n",
       "        </tr>\n",
       "        <tr>\n",
       "            <td>-34     </td> <td>-64      </td> <td>arg </td> <td>americas</td> <td>581243       </td>\n",
       "        </tr>\n",
       "        <tr>\n",
       "            <td>40.25   </td> <td>45       </td> <td>arm </td> <td>europe  </td> <td>51861        </td>\n",
       "        </tr>\n",
       "        <tr>\n",
       "            <td>-25     </td> <td>135      </td> <td>aus </td> <td>asia    </td> <td>301415       </td>\n",
       "        </tr>\n",
       "        <tr>\n",
       "            <td>47.3333 </td> <td>13.3333  </td> <td>aut </td> <td>europe  </td> <td>28533        </td>\n",
       "        </tr>\n",
       "        <tr>\n",
       "            <td>40.5    </td> <td>47.5     </td> <td>aze </td> <td>europe  </td> <td>28210        </td>\n",
       "        </tr>\n",
       "        <tr>\n",
       "            <td>-3.5    </td> <td>30       </td> <td>bdi </td> <td>africa  </td> <td>7.69378e+06  </td>\n",
       "        </tr>\n",
       "        <tr>\n",
       "            <td>50.75   </td> <td>4.5      </td> <td>bel </td> <td>europe  </td> <td>54650        </td>\n",
       "        </tr>\n",
       "        <tr>\n",
       "            <td>9.5     </td> <td>2.25     </td> <td>ben </td> <td>africa  </td> <td>4.90801e+06  </td>\n",
       "        </tr>\n",
       "    </tbody>\n",
       "</table>\n",
       "<p>... (135 rows omitted)</p>"
      ],
      "text/plain": [
       "latitude | longitude | name | region   | poverty_total\n",
       "-12.5    | 18.5      | ago  | africa   | 9.20309e+06\n",
       "41       | 20        | alb  | europe   | 13349\n",
       "-34      | -64       | arg  | americas | 581243\n",
       "40.25    | 45        | arm  | europe   | 51861\n",
       "-25      | 135       | aus  | asia     | 301415\n",
       "47.3333  | 13.3333   | aut  | europe   | 28533\n",
       "40.5     | 47.5      | aze  | europe   | 28210\n",
       "-3.5     | 30        | bdi  | africa   | 7.69378e+06\n",
       "50.75    | 4.5       | bel  | europe   | 54650\n",
       "9.5      | 2.25      | ben  | africa   | 4.90801e+06\n",
       "... (135 rows omitted)"
      ]
     },
     "execution_count": 134,
     "metadata": {},
     "output_type": "execute_result"
    }
   ],
   "source": [
    "pruned = countries.where(\"country\", are.contained_in(recent_poverty_total.column(\"geo\"))).sort(\"country\")\n",
    "poverty_map = Table().with_columns(\"latitude\", pruned.column(\"latitude\"), \"longitude\", pruned.column(\"longitude\"), \"name\", recent_poverty_total.column(\"geo\"), \"region\", pruned.column(\"world_4region\"), \"poverty_total\", recent_poverty_total.column(\"poverty_total\"))\n",
    "poverty_map"
   ]
  },
  {
   "cell_type": "code",
   "execution_count": 135,
   "metadata": {
    "deletable": false,
    "editable": false
   },
   "outputs": [
    {
     "name": "stdout",
     "output_type": "stream",
     "text": [
      "~~~~~~~~~~~~~~~~~~~~~~~~~~~~~~~~~~~~~~~~~~~~~~~~~~~~~~~~~~~~~~~~~~~~~\n",
      "Running tests\n",
      "\n",
      "---------------------------------------------------------------------\n",
      "Test summary\n",
      "    Passed: 2\n",
      "    Failed: 0\n",
      "[ooooooooook] 100.0% passed\n",
      "\n"
     ]
    }
   ],
   "source": [
    "ok.grade(\"q2_4\");"
   ]
  },
  {
   "cell_type": "markdown",
   "metadata": {
    "deletable": false,
    "editable": false
   },
   "source": [
    "Run the cell below to draw a map of the world in which the areas of circles represent the number of people living in extreme poverty. Double-click on the map to zoom in."
   ]
  },
  {
   "cell_type": "code",
   "execution_count": 136,
   "metadata": {
    "deletable": false,
    "editable": false
   },
   "outputs": [
    {
     "data": {
      "text/html": [
       "<div style=\"width:100%;\"><div style=\"position:relative;width:100%;height:0;padding-bottom:60%;\"><span style=\"color:#565656\">Make this Notebook Trusted to load map: File -> Trust Notebook</span><iframe src=\"about:blank\" style=\"position:absolute;width:100%;height:100%;left:0;top:0;border:none !important;\" data-html=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 onload=\"this.contentDocument.open();this.contentDocument.write(atob(this.getAttribute('data-html')));this.contentDocument.close();\" allowfullscreen webkitallowfullscreen mozallowfullscreen></iframe></div></div>"
      ],
      "text/plain": [
       "<datascience.maps.Map at 0x7f3b9d5516a0>"
      ]
     },
     "execution_count": 136,
     "metadata": {},
     "output_type": "execute_result"
    }
   ],
   "source": [
    "# It may take a few seconds to generate this map.\n",
    "colors = {'africa': 'blue', 'europe': 'black', 'asia': 'red', 'americas': 'green'}\n",
    "scaled = poverty_map.with_columns(\n",
    "    'poverty_total', 1e-4 * poverty_map.column('poverty_total'),\n",
    "    'region', poverty_map.apply(colors.get, 'region')\n",
    ")\n",
    "Circle.map_table(scaled)"
   ]
  },
  {
   "cell_type": "markdown",
   "metadata": {
    "deletable": false,
    "editable": false
   },
   "source": [
    "Although people live in extreme poverty throughout the world (with more than 5 million in the United States), the largest numbers are in Asia and Africa."
   ]
  },
  {
   "cell_type": "markdown",
   "metadata": {
    "deletable": false,
    "editable": false
   },
   "source": [
    "**Question 5.** Assign `largest` to a two-column table with the `name` (not the 3-letter code) and `poverty_total` of the 10 countries with the largest number of people living in extreme poverty.\n",
    "\n",
    "<!--\n",
    "BEGIN QUESTION\n",
    "name: q2_5\n",
    "-->"
   ]
  },
  {
   "cell_type": "code",
   "execution_count": 137,
   "metadata": {
    "deletable": false
   },
   "outputs": [
    {
     "data": {
      "text/html": [
       "<table border=\"1\" class=\"dataframe\">\n",
       "    <thead>\n",
       "        <tr>\n",
       "            <th>name</th> <th>poverty_total</th>\n",
       "        </tr>\n",
       "    </thead>\n",
       "    <tbody>\n",
       "        <tr>\n",
       "            <td>India           </td> <td>290,881,638.00</td>\n",
       "        </tr>\n",
       "        <tr>\n",
       "            <td>Nigeria         </td> <td>98,891,167.00 </td>\n",
       "        </tr>\n",
       "        <tr>\n",
       "            <td>China           </td> <td>83,944,643.00 </td>\n",
       "        </tr>\n",
       "        <tr>\n",
       "            <td>Bangladesh      </td> <td>65,574,256.00 </td>\n",
       "        </tr>\n",
       "        <tr>\n",
       "            <td>Congo, Dem. Rep.</td> <td>57,841,438.00 </td>\n",
       "        </tr>\n",
       "        <tr>\n",
       "            <td>Indonesia       </td> <td>39,141,326.00 </td>\n",
       "        </tr>\n",
       "        <tr>\n",
       "            <td>Ethiopia        </td> <td>32,213,991.00 </td>\n",
       "        </tr>\n",
       "        <tr>\n",
       "            <td>Pakistan        </td> <td>21,663,595.00 </td>\n",
       "        </tr>\n",
       "        <tr>\n",
       "            <td>Tanzania        </td> <td>19,847,979.00 </td>\n",
       "        </tr>\n",
       "        <tr>\n",
       "            <td>Madagascar      </td> <td>18,480,426.00 </td>\n",
       "        </tr>\n",
       "    </tbody>\n",
       "</table>"
      ],
      "text/plain": [
       "name             | poverty_total\n",
       "India            | 290,881,638.00\n",
       "Nigeria          | 98,891,167.00\n",
       "China            | 83,944,643.00\n",
       "Bangladesh       | 65,574,256.00\n",
       "Congo, Dem. Rep. | 57,841,438.00\n",
       "Indonesia        | 39,141,326.00\n",
       "Ethiopia         | 32,213,991.00\n",
       "Pakistan         | 21,663,595.00\n",
       "Tanzania         | 19,847,979.00\n",
       "Madagascar       | 18,480,426.00"
      ]
     },
     "execution_count": 137,
     "metadata": {},
     "output_type": "execute_result"
    }
   ],
   "source": [
    "largest = Table().with_columns(\"name\", pruned.column(\"name\"), \"poverty_total\", recent_poverty_total.column(\"poverty_total\")).sort(\"poverty_total\", descending=True).take(np.arange(10))\n",
    "largest.set_format('poverty_total', NumberFormatter)"
   ]
  },
  {
   "cell_type": "code",
   "execution_count": 138,
   "metadata": {
    "deletable": false,
    "editable": false
   },
   "outputs": [
    {
     "name": "stdout",
     "output_type": "stream",
     "text": [
      "~~~~~~~~~~~~~~~~~~~~~~~~~~~~~~~~~~~~~~~~~~~~~~~~~~~~~~~~~~~~~~~~~~~~~\n",
      "Running tests\n",
      "\n",
      "---------------------------------------------------------------------\n",
      "Test summary\n",
      "    Passed: 3\n",
      "    Failed: 0\n",
      "[ooooooooook] 100.0% passed\n",
      "\n"
     ]
    }
   ],
   "source": [
    "ok.grade(\"q2_5\");"
   ]
  },
  {
   "cell_type": "markdown",
   "metadata": {
    "deletable": false
   },
   "source": [
    "**Question 6.** Write a function called `poverty_timeline` that takes **the name of a country** as its argument. It should draw a line plot of the number of people living in poverty in that country with time on the horizontal axis. The line plot should have a point for each row in the `poverty` table for that country. To compute the population living in poverty from a poverty percentage, multiply by the population of the country **in that year**.\n",
    "\n",
    "*Hint:* This question is long. Feel free to create cells and experiment. "
   ]
  },
  {
   "cell_type": "code",
   "execution_count": 150,
   "metadata": {},
   "outputs": [],
   "source": [
    "def poverty_timeline(country):\n",
    "    '''Draw a timeline of people living in extreme poverty in a country.'''\n",
    "    geo = countries.where(\"name\", are.equal_to(country)).column(\"country\").item(0)\n",
    "    # This solution will take multiple lines of code. Use as many as you need\n",
    "    povtable = poverty.where(\"geo\", are.equal_to(geo))\n",
    "    arrpop = population.where(\"geo\", are.equal_to(geo)).where(\"time\", are.contained_in(povtable.column(\"time\"))).sort(\"time\")\n",
    "    plottbl = povtable.with_column(\"povpercent\", np.round(arrpop.column(\"population_total\") * povtable.column(\"extreme_poverty_percent_people_below_125_a_day\")))\n",
    "    plottbl = plottbl.relabel(\"time\", \"Year\").relabel(\"povpercent\", \"% Population in Poverty\")\n",
    "    plottbl.plot(\"Year\", \"% Population in Poverty\")"
   ]
  },
  {
   "cell_type": "markdown",
   "metadata": {
    "deletable": false,
    "editable": false
   },
   "source": [
    "Finally, draw the timelines below to see how the world is changing. You can check your work by comparing your graphs to the ones on [gapminder.org](https://www.gapminder.org/tools/#$state$entities$show$country$/$in@=ind;;;;&marker$axis_y$which=number_of_people_in_poverty&scaleType=linear&spaceRef:null;;;&chart-type=linechart).\n",
    "\n",
    "<!--\n",
    "BEGIN QUESTION\n",
    "name: q2_6\n",
    "manual: true\n",
    "-->\n",
    "<!-- EXPORT TO PDF -->"
   ]
  },
  {
   "cell_type": "code",
   "execution_count": 151,
   "metadata": {
    "export_pdf": true
   },
   "outputs": [
    {
     "data": {
      "image/png": "[encoded data removed]",
      "text/plain": [
       "<Figure size 432x288 with 1 Axes>"
      ]
     },
     "metadata": {},
     "output_type": "display_data"
    },
    {
     "data": {
      "image/png": "[encoded data removed]",
      "text/plain": [
       "<Figure size 432x288 with 1 Axes>"
      ]
     },
     "metadata": {},
     "output_type": "display_data"
    },
    {
     "data": {
      "image/png": "[encoded data removed]",
      "text/plain": [
       "<Figure size 432x288 with 1 Axes>"
      ]
     },
     "metadata": {},
     "output_type": "display_data"
    },
    {
     "data": {
      "image/png": "[encoded data removed]",
      "text/plain": [
       "<Figure size 432x288 with 1 Axes>"
      ]
     },
     "metadata": {},
     "output_type": "display_data"
    }
   ],
   "source": [
    "poverty_timeline('India')\n",
    "poverty_timeline('Nigeria')\n",
    "poverty_timeline('China')\n",
    "poverty_timeline('United States')"
   ]
  },
  {
   "cell_type": "markdown",
   "metadata": {
    "deletable": false,
    "editable": false
   },
   "source": [
    "Although the number of people living in extreme poverty has been increasing in Nigeria and the United States, the massive decreases in China and India have shaped the overall trend that extreme poverty is decreasing worldwide, both in percentage and in absolute number. \n",
    "\n",
    "To learn more, watch [Hans Rosling in a 2015 film](https://www.gapminder.org/videos/dont-panic-end-poverty/) about the UN goal of eradicating extreme poverty from the world. \n",
    "\n",
    "Below, we've also added an interactive dropdown menu for you to visualize `poverty_timeline` graphs for other countries. Note that each dropdown menu selection may take a few seconds to run."
   ]
  },
  {
   "cell_type": "code",
   "execution_count": 152,
   "metadata": {
    "deletable": false,
    "editable": false
   },
   "outputs": [
    {
     "data": {
      "application/vnd.jupyter.widget-view+json": {
       "model_id": "8dac1b1f3e1848a8b263f4bba4c83485",
       "version_major": 2,
       "version_minor": 0
      },
      "text/plain": [
       "interactive(children=(Dropdown(description='country', options=('ago', 'alb', 'arg', 'arm', 'aus', 'aut', 'aze'…"
      ]
     },
     "metadata": {},
     "output_type": "display_data"
    }
   ],
   "source": [
    "# Just run this cell\n",
    "\n",
    "all_countries = poverty_map.column('name')\n",
    "_ = widgets.interact(poverty_timeline, country=list(all_countries))"
   ]
  },
  {
   "cell_type": "markdown",
   "metadata": {
    "deletable": false,
    "editable": false
   },
   "source": [
    "**You're finished!** Congratulations on mastering data visualization and table manipulation. Time to submit."
   ]
  },
  {
   "cell_type": "markdown",
   "metadata": {},
   "source": [
    "## 3. Submission\n"
   ]
  },
  {
   "cell_type": "markdown",
   "metadata": {
    "collapsed": true
   },
   "source": [
    "Once you're finished, select \"Save and Checkpoint\" in the File menu and then execute the `submit` cell below. The result will contain a link that you can use to check that your assignment has been submitted successfully. If you submit more than once before the deadline, we will only grade your final submission. If you mistakenly submit the wrong one, you can head to [okpy.org](https://okpy.org/) and flag the correct version. To do so, go to the website, click on this assignment, and find the version you would like to have graded. There should be an option to flag that submission for grading!"
   ]
  },
  {
   "cell_type": "code",
   "execution_count": 153,
   "metadata": {},
   "outputs": [
    {
     "data": {
      "application/javascript": [
       "IPython.notebook.save_checkpoint();"
      ],
      "text/plain": [
       "<IPython.core.display.Javascript object>"
      ]
     },
     "metadata": {},
     "output_type": "display_data"
    },
    {
     "data": {
      "application/javascript": [
       "IPython.notebook.save_notebook();"
      ],
      "text/plain": [
       "<IPython.core.display.Javascript object>"
      ]
     },
     "metadata": {},
     "output_type": "display_data"
    },
    {
     "name": "stdout",
     "output_type": "stream",
     "text": [
      "Saving notebook... Could not save your notebook. Make sure your notebook is saved before sending it to OK!\n",
      "Submit... 100% complete\n",
      "Submission successful for user: thomashsiung@berkeley.edu\n",
      "URL: https://okpy.org/cal/data8/su20/project1/submissions/gnMOg6\n",
      "\n"
     ]
    }
   ],
   "source": [
    "_ = ok.submit()"
   ]
  },
  {
   "cell_type": "code",
   "execution_count": 154,
   "metadata": {},
   "outputs": [
    {
     "name": "stdout",
     "output_type": "stream",
     "text": [
      "Running all tests...\n",
      "~~~~~~~~~~~~~~~~~~~~~~~~~~~~~~~~~~~~~~~~~~~~~~~~~~~~~~~~~~~~~~~~~~~~~\n",
      "Running tests\n",
      "\n",
      "---------------------------------------------------------------------\n",
      "Test summary\n",
      "    Passed: 3\n",
      "    Failed: 0\n",
      "[ooooooooook] 100.0% passed\n",
      "\n",
      "~~~~~~~~~~~~~~~~~~~~~~~~~~~~~~~~~~~~~~~~~~~~~~~~~~~~~~~~~~~~~~~~~~~~~\n",
      "Running tests\n",
      "\n",
      "---------------------------------------------------------------------\n",
      "Test summary\n",
      "    Passed: 1\n",
      "    Failed: 0\n",
      "[ooooooooook] 100.0% passed\n",
      "\n",
      "~~~~~~~~~~~~~~~~~~~~~~~~~~~~~~~~~~~~~~~~~~~~~~~~~~~~~~~~~~~~~~~~~~~~~\n",
      "Running tests\n",
      "\n",
      "---------------------------------------------------------------------\n",
      "Test summary\n",
      "    Passed: 2\n",
      "    Failed: 0\n",
      "[ooooooooook] 100.0% passed\n",
      "\n",
      "~~~~~~~~~~~~~~~~~~~~~~~~~~~~~~~~~~~~~~~~~~~~~~~~~~~~~~~~~~~~~~~~~~~~~\n",
      "Running tests\n",
      "\n",
      "---------------------------------------------------------------------\n",
      "Test summary\n",
      "    Passed: 2\n",
      "    Failed: 0\n",
      "[ooooooooook] 100.0% passed\n",
      "\n",
      "~~~~~~~~~~~~~~~~~~~~~~~~~~~~~~~~~~~~~~~~~~~~~~~~~~~~~~~~~~~~~~~~~~~~~\n",
      "Running tests\n",
      "\n",
      "---------------------------------------------------------------------\n",
      "Test summary\n",
      "    Passed: 3\n",
      "    Failed: 0\n",
      "[ooooooooook] 100.0% passed\n",
      "\n",
      "~~~~~~~~~~~~~~~~~~~~~~~~~~~~~~~~~~~~~~~~~~~~~~~~~~~~~~~~~~~~~~~~~~~~~\n",
      "Running tests\n",
      "\n",
      "---------------------------------------------------------------------\n",
      "Test summary\n",
      "    Passed: 1\n",
      "    Failed: 0\n",
      "[ooooooooook] 100.0% passed\n",
      "\n",
      "~~~~~~~~~~~~~~~~~~~~~~~~~~~~~~~~~~~~~~~~~~~~~~~~~~~~~~~~~~~~~~~~~~~~~\n",
      "Running tests\n",
      "\n",
      "---------------------------------------------------------------------\n",
      "Test summary\n",
      "    Passed: 3\n",
      "    Failed: 0\n",
      "[ooooooooook] 100.0% passed\n",
      "\n",
      "~~~~~~~~~~~~~~~~~~~~~~~~~~~~~~~~~~~~~~~~~~~~~~~~~~~~~~~~~~~~~~~~~~~~~\n",
      "Running tests\n",
      "\n",
      "---------------------------------------------------------------------\n",
      "Test summary\n",
      "    Passed: 2\n",
      "    Failed: 0\n",
      "[ooooooooook] 100.0% passed\n",
      "\n",
      "~~~~~~~~~~~~~~~~~~~~~~~~~~~~~~~~~~~~~~~~~~~~~~~~~~~~~~~~~~~~~~~~~~~~~\n",
      "Running tests\n",
      "\n",
      "---------------------------------------------------------------------\n",
      "Test summary\n",
      "    Passed: 1\n",
      "    Failed: 0\n",
      "[ooooooooook] 100.0% passed\n",
      "\n",
      "~~~~~~~~~~~~~~~~~~~~~~~~~~~~~~~~~~~~~~~~~~~~~~~~~~~~~~~~~~~~~~~~~~~~~\n",
      "Running tests\n",
      "\n",
      "---------------------------------------------------------------------\n",
      "Test summary\n",
      "    Passed: 2\n",
      "    Failed: 0\n",
      "[ooooooooook] 100.0% passed\n",
      "\n",
      "~~~~~~~~~~~~~~~~~~~~~~~~~~~~~~~~~~~~~~~~~~~~~~~~~~~~~~~~~~~~~~~~~~~~~\n",
      "Running tests\n",
      "\n",
      "---------------------------------------------------------------------\n",
      "Test summary\n",
      "    Passed: 2\n",
      "    Failed: 0\n",
      "[ooooooooook] 100.0% passed\n",
      "\n",
      "~~~~~~~~~~~~~~~~~~~~~~~~~~~~~~~~~~~~~~~~~~~~~~~~~~~~~~~~~~~~~~~~~~~~~\n",
      "Running tests\n",
      "\n",
      "---------------------------------------------------------------------\n",
      "Test summary\n",
      "    Passed: 2\n",
      "    Failed: 0\n",
      "[ooooooooook] 100.0% passed\n",
      "\n",
      "~~~~~~~~~~~~~~~~~~~~~~~~~~~~~~~~~~~~~~~~~~~~~~~~~~~~~~~~~~~~~~~~~~~~~\n",
      "Running tests\n",
      "\n",
      "---------------------------------------------------------------------\n",
      "Test summary\n",
      "    Passed: 2\n",
      "    Failed: 0\n",
      "[ooooooooook] 100.0% passed\n",
      "\n",
      "~~~~~~~~~~~~~~~~~~~~~~~~~~~~~~~~~~~~~~~~~~~~~~~~~~~~~~~~~~~~~~~~~~~~~\n",
      "Running tests\n",
      "\n",
      "---------------------------------------------------------------------\n",
      "q1_11 > Suite 1 > Case 3\n",
      "\n",
      ">>> print(stats_for_year(1960).sort('geo').take(np.arange(5, 50, 5)))\n",
      "geo  | population_total | children_per_woman_total_fertility | child_mortality_under_5_per_1000_born\n",
      "chn  | 6.4445e+08       | 3.99                               | 309\n",
      "egy  | 2.70724e+07      | 6.63                               | 312.8\n",
      "gha  | 6.65228e+06      | 6.75                               | 210.9\n",
      "ita  | 4.9715e+07       | 2.37                               | 52\n",
      "mex  | 3.81741e+07      | 6.78                               | 142.9\n",
      "npl  | 1.00569e+07      | 5.99                               | 327.1\n",
      "prk  | 1.14242e+07      | 4.58                               | 127.3\n",
      "tur  | 2.75533e+07      | 6.3                                | 249\n",
      "uzb  | 8.78949e+06      | 6.71                               | 175.7\n",
      "\n",
      "# Error: expected\n",
      "#     geo  | population_total | children_per_woman_total_fertility | child_mortality_under_5_per_1000_born\n",
      "#     chn  | 644450173        | 3.99                               | 309\n",
      "#     egy  | 27072397         | 6.63                               | 312.8\n",
      "#     gha  | 6652285          | 6.75                               | 210.9\n",
      "#     ita  | 49714962         | 2.37                               | 52\n",
      "#     mex  | 38174114         | 6.78                               | 142.9\n",
      "#     npl  | 10056945         | 5.99                               | 327.1\n",
      "#     prk  | 11424179         | 4.58                               | 127.3\n",
      "#     tur  | 27553280         | 6.3                                | 249\n",
      "#     uzb  | 8789492          | 6.71                               | 175.7\n",
      "# but got\n",
      "#     geo  | population_total | children_per_woman_total_fertility | child_mortality_under_5_per_1000_born\n",
      "#     chn  | 6.4445e+08       | 3.99                               | 309\n",
      "#     egy  | 2.70724e+07      | 6.63                               | 312.8\n",
      "#     gha  | 6.65228e+06      | 6.75                               | 210.9\n",
      "#     ita  | 4.9715e+07       | 2.37                               | 52\n",
      "#     mex  | 3.81741e+07      | 6.78                               | 142.9\n",
      "#     npl  | 1.00569e+07      | 5.99                               | 327.1\n",
      "#     prk  | 1.14242e+07      | 4.58                               | 127.3\n",
      "#     tur  | 2.75533e+07      | 6.3                                | 249\n",
      "#     uzb  | 8.78949e+06      | 6.71                               | 175.7\n",
      "\n",
      "Run only this test case with \"python3 ok -q q1_11 --suite 1 --case 3\"\n",
      "---------------------------------------------------------------------\n",
      "Test summary\n",
      "    Passed: 2\n",
      "    Failed: 1\n",
      "[ooooook....] 66.7% passed\n",
      "\n",
      "~~~~~~~~~~~~~~~~~~~~~~~~~~~~~~~~~~~~~~~~~~~~~~~~~~~~~~~~~~~~~~~~~~~~~\n",
      "Running tests\n",
      "\n",
      "---------------------------------------------------------------------\n",
      "Test summary\n",
      "    Passed: 3\n",
      "    Failed: 0\n",
      "[ooooooooook] 100.0% passed\n",
      "\n",
      "Finished running all tests.\n"
     ]
    }
   ],
   "source": [
    "# For your convenience, you can run this cell to run all the tests at once!\n",
    "import os\n",
    "print(\"Running all tests...\")\n",
    "_ = [ok.grade(q[:-3]) for q in os.listdir(\"tests\") if q.startswith('q') and len(q) <= 10]\n",
    "print(\"Finished running all tests.\")"
   ]
  },
  {
   "cell_type": "code",
   "execution_count": null,
   "metadata": {},
   "outputs": [],
   "source": []
  }
 ],
 "metadata": {
  "kernelspec": {
   "display_name": "Python 3 (ipykernel)",
   "language": "python",
   "name": "python3"
  },
  "language_info": {
   "codemirror_mode": {
    "name": "ipython",
    "version": 3
   },
   "file_extension": ".py",
   "mimetype": "text/x-python",
   "name": "python",
   "nbconvert_exporter": "python",
   "pygments_lexer": "ipython3",
   "version": "3.9.7"
  },
  "widgets": {
   "application/vnd.jupyter.widget-state+json": {
    "state": {
     "07a408c6c97e45a3bd2b632cdf4566ca": {
      "model_module": "@jupyter-widgets/controls",
      "model_module_version": "1.5.0",
      "model_name": "DescriptionStyleModel",
      "state": {
       "_model_module": "@jupyter-widgets/controls",
       "_model_module_version": "1.5.0",
       "_model_name": "DescriptionStyleModel",
       "_view_count": null,
       "_view_module": "@jupyter-widgets/base",
       "_view_module_version": "1.2.0",
       "_view_name": "StyleView",
       "description_width": ""
      }
     },
     "1c90927da80346cfa6d592670d71b83f": {
      "model_module": "@jupyter-widgets/output",
      "model_module_version": "1.0.0",
      "model_name": "OutputModel",
      "state": {
       "_dom_classes": [],
       "_model_module": "@jupyter-widgets/output",
       "_model_module_version": "1.0.0",
       "_model_name": "OutputModel",
       "_view_count": null,
       "_view_module": "@jupyter-widgets/output",
       "_view_module_version": "1.0.0",
       "_view_name": "OutputView",
       "layout": "IPY_MODEL_80d5a324fbc640c38eea8af84e1c3e57",
       "msg_id": "",
       "outputs": []
      }
     },
     "2b55257a825e4435b5671ebe420836d9": {
      "model_module": "@jupyter-widgets/controls",
      "model_module_version": "1.5.0",
      "model_name": "SliderStyleModel",
      "state": {
       "_model_module": "@jupyter-widgets/controls",
       "_model_module_version": "1.5.0",
       "_model_name": "SliderStyleModel",
       "_view_count": null,
       "_view_module": "@jupyter-widgets/base",
       "_view_module_version": "1.2.0",
       "_view_name": "StyleView",
       "description_width": "",
       "handle_color": null
      }
     },
     "34447fa694a5422fb10e8056e2de4be7": {
      "model_module": "@jupyter-widgets/base",
      "model_module_version": "1.2.0",
      "model_name": "LayoutModel",
      "state": {
       "_model_module": "@jupyter-widgets/base",
       "_model_module_version": "1.2.0",
       "_model_name": "LayoutModel",
       "_view_count": null,
       "_view_module": "@jupyter-widgets/base",
       "_view_module_version": "1.2.0",
       "_view_name": "LayoutView",
       "align_content": null,
       "align_items": null,
       "align_self": null,
       "border": null,
       "bottom": null,
       "display": null,
       "flex": null,
       "flex_flow": null,
       "grid_area": null,
       "grid_auto_columns": null,
       "grid_auto_flow": null,
       "grid_auto_rows": null,
       "grid_column": null,
       "grid_gap": null,
       "grid_row": null,
       "grid_template_areas": null,
       "grid_template_columns": null,
       "grid_template_rows": null,
       "height": null,
       "justify_content": null,
       "justify_items": null,
       "left": null,
       "margin": null,
       "max_height": null,
       "max_width": null,
       "min_height": null,
       "min_width": null,
       "object_fit": null,
       "object_position": null,
       "order": null,
       "overflow": null,
       "overflow_x": null,
       "overflow_y": null,
       "padding": null,
       "right": null,
       "top": null,
       "visibility": null,
       "width": null
      }
     },
     "35e83d2b1143485996469bddcafd8b41": {
      "model_module": "@jupyter-widgets/controls",
      "model_module_version": "1.5.0",
      "model_name": "IntSliderModel",
      "state": {
       "_dom_classes": [],
       "_model_module": "@jupyter-widgets/controls",
       "_model_module_version": "1.5.0",
       "_model_name": "IntSliderModel",
       "_view_count": null,
       "_view_module": "@jupyter-widgets/controls",
       "_view_module_version": "1.5.0",
       "_view_name": "IntSliderView",
       "continuous_update": true,
       "description": "year",
       "description_tooltip": null,
       "disabled": false,
       "layout": "IPY_MODEL_b917e3dc40b341f69e46b10ce3888fac",
       "max": 2015,
       "min": 1960,
       "orientation": "horizontal",
       "readout": true,
       "readout_format": "d",
       "step": 1,
       "style": "IPY_MODEL_2b55257a825e4435b5671ebe420836d9",
       "value": 1960
      }
     },
     "4226c3580ac94c74a178e1f17c78756a": {
      "model_module": "@jupyter-widgets/base",
      "model_module_version": "1.2.0",
      "model_name": "LayoutModel",
      "state": {
       "_model_module": "@jupyter-widgets/base",
       "_model_module_version": "1.2.0",
       "_model_name": "LayoutModel",
       "_view_count": null,
       "_view_module": "@jupyter-widgets/base",
       "_view_module_version": "1.2.0",
       "_view_name": "LayoutView",
       "align_content": null,
       "align_items": null,
       "align_self": null,
       "border": null,
       "bottom": null,
       "display": null,
       "flex": null,
       "flex_flow": null,
       "grid_area": null,
       "grid_auto_columns": null,
       "grid_auto_flow": null,
       "grid_auto_rows": null,
       "grid_column": null,
       "grid_gap": null,
       "grid_row": null,
       "grid_template_areas": null,
       "grid_template_columns": null,
       "grid_template_rows": null,
       "height": null,
       "justify_content": null,
       "justify_items": null,
       "left": null,
       "margin": null,
       "max_height": null,
       "max_width": null,
       "min_height": null,
       "min_width": null,
       "object_fit": null,
       "object_position": null,
       "order": null,
       "overflow": null,
       "overflow_x": null,
       "overflow_y": null,
       "padding": null,
       "right": null,
       "top": null,
       "visibility": null,
       "width": null
      }
     },
     "4febe23b05714bd4b6d6a6b3773bd36f": {
      "model_module": "@jupyter-widgets/controls",
      "model_module_version": "1.5.0",
      "model_name": "VBoxModel",
      "state": {
       "_dom_classes": [
        "widget-interact"
       ],
       "_model_module": "@jupyter-widgets/controls",
       "_model_module_version": "1.5.0",
       "_model_name": "VBoxModel",
       "_view_count": null,
       "_view_module": "@jupyter-widgets/controls",
       "_view_module_version": "1.5.0",
       "_view_name": "VBoxView",
       "box_style": "",
       "children": [
        "IPY_MODEL_35e83d2b1143485996469bddcafd8b41",
        "IPY_MODEL_1c90927da80346cfa6d592670d71b83f"
       ],
       "layout": "IPY_MODEL_4226c3580ac94c74a178e1f17c78756a"
      }
     },
     "65539e59f8a545398b39a4660a160a4d": {
      "model_module": "@jupyter-widgets/controls",
      "model_module_version": "1.5.0",
      "model_name": "DropdownModel",
      "state": {
       "_dom_classes": [],
       "_model_module": "@jupyter-widgets/controls",
       "_model_module_version": "1.5.0",
       "_model_name": "DropdownModel",
       "_options_labels": [
        "Angola",
        "Albania",
        "Argentina",
        "Armenia",
        "Australia",
        "Austria",
        "Azerbaijan",
        "Burundi",
        "Belgium",
        "Benin",
        "Burkina Faso",
        "Bangladesh",
        "Bulgaria",
        "Bosnia and Herzegovina",
        "Belarus",
        "Belize",
        "Bolivia",
        "Brazil",
        "Bhutan",
        "Botswana",
        "Central African Republic",
        "Canada",
        "Switzerland",
        "Chile",
        "China",
        "Cote d'Ivoire",
        "Cameroon",
        "Congo, Dem. Rep.",
        "Congo, Rep.",
        "Colombia",
        "Comoros",
        "Cape Verde",
        "Costa Rica",
        "Czech Republic",
        "Germany",
        "Djibouti",
        "Denmark",
        "Dominican Republic",
        "Algeria",
        "Ecuador",
        "Egypt",
        "Spain",
        "Estonia",
        "Ethiopia",
        "Finland",
        "Fiji",
        "France",
        "Micronesia, Fed. Sts.",
        "Gabon",
        "United Kingdom",
        "Georgia",
        "Ghana",
        "Guinea",
        "Gambia",
        "Guinea-Bissau",
        "Greece",
        "Guatemala",
        "Guyana",
        "Honduras",
        "Croatia",
        "Haiti",
        "Hungary",
        "Indonesia",
        "India",
        "Ireland",
        "Iran",
        "Iraq",
        "Israel",
        "Italy",
        "Jamaica",
        "Jordan",
        "Japan",
        "Kazakhstan",
        "Kenya",
        "Kyrgyz Republic",
        "Cambodia",
        "Lao",
        "Liberia",
        "St. Lucia",
        "Sri Lanka",
        "Lesotho",
        "Lithuania",
        "Latvia",
        "Morocco",
        "Moldova",
        "Madagascar",
        "Maldives",
        "Mexico",
        "Macedonia, FYR",
        "Mali",
        "Montenegro",
        "Mozambique",
        "Mauritania",
        "Malawi",
        "Malaysia",
        "Namibia",
        "Niger",
        "Nigeria",
        "Nicaragua",
        "Netherlands",
        "Norway",
        "Nepal",
        "Pakistan",
        "Panama",
        "Peru",
        "Philippines",
        "Papua New Guinea",
        "Poland",
        "Paraguay",
        "Palestine",
        "Romania",
        "Russia",
        "Rwanda",
        "Sudan",
        "Senegal",
        "Sierra Leone",
        "El Salvador",
        "Serbia",
        "Sao Tome and Principe",
        "Suriname",
        "Slovak Republic",
        "Slovenia",
        "Sweden",
        "Swaziland",
        "Seychelles",
        "Syria",
        "Chad",
        "Togo",
        "Thailand",
        "Tajikistan",
        "Turkmenistan",
        "Timor-Leste",
        "Trinidad and Tobago",
        "Tunisia",
        "Turkey",
        "Tanzania",
        "Uganda",
        "Ukraine",
        "Uruguay",
        "United States",
        "Venezuela",
        "Vietnam",
        "Yemen",
        "South Africa",
        "Zambia"
       ],
       "_view_count": null,
       "_view_module": "@jupyter-widgets/controls",
       "_view_module_version": "1.5.0",
       "_view_name": "DropdownView",
       "description": "country",
       "description_tooltip": null,
       "disabled": false,
       "index": 0,
       "layout": "IPY_MODEL_6f178eca06fd46fe91be9d595382788c",
       "style": "IPY_MODEL_07a408c6c97e45a3bd2b632cdf4566ca"
      }
     },
     "6f178eca06fd46fe91be9d595382788c": {
      "model_module": "@jupyter-widgets/base",
      "model_module_version": "1.2.0",
      "model_name": "LayoutModel",
      "state": {
       "_model_module": "@jupyter-widgets/base",
       "_model_module_version": "1.2.0",
       "_model_name": "LayoutModel",
       "_view_count": null,
       "_view_module": "@jupyter-widgets/base",
       "_view_module_version": "1.2.0",
       "_view_name": "LayoutView",
       "align_content": null,
       "align_items": null,
       "align_self": null,
       "border": null,
       "bottom": null,
       "display": null,
       "flex": null,
       "flex_flow": null,
       "grid_area": null,
       "grid_auto_columns": null,
       "grid_auto_flow": null,
       "grid_auto_rows": null,
       "grid_column": null,
       "grid_gap": null,
       "grid_row": null,
       "grid_template_areas": null,
       "grid_template_columns": null,
       "grid_template_rows": null,
       "height": null,
       "justify_content": null,
       "justify_items": null,
       "left": null,
       "margin": null,
       "max_height": null,
       "max_width": null,
       "min_height": null,
       "min_width": null,
       "object_fit": null,
       "object_position": null,
       "order": null,
       "overflow": null,
       "overflow_x": null,
       "overflow_y": null,
       "padding": null,
       "right": null,
       "top": null,
       "visibility": null,
       "width": null
      }
     },
     "80d5a324fbc640c38eea8af84e1c3e57": {
      "model_module": "@jupyter-widgets/base",
      "model_module_version": "1.2.0",
      "model_name": "LayoutModel",
      "state": {
       "_model_module": "@jupyter-widgets/base",
       "_model_module_version": "1.2.0",
       "_model_name": "LayoutModel",
       "_view_count": null,
       "_view_module": "@jupyter-widgets/base",
       "_view_module_version": "1.2.0",
       "_view_name": "LayoutView",
       "align_content": null,
       "align_items": null,
       "align_self": null,
       "border": null,
       "bottom": null,
       "display": null,
       "flex": null,
       "flex_flow": null,
       "grid_area": null,
       "grid_auto_columns": null,
       "grid_auto_flow": null,
       "grid_auto_rows": null,
       "grid_column": null,
       "grid_gap": null,
       "grid_row": null,
       "grid_template_areas": null,
       "grid_template_columns": null,
       "grid_template_rows": null,
       "height": null,
       "justify_content": null,
       "justify_items": null,
       "left": null,
       "margin": null,
       "max_height": null,
       "max_width": null,
       "min_height": null,
       "min_width": null,
       "object_fit": null,
       "object_position": null,
       "order": null,
       "overflow": null,
       "overflow_x": null,
       "overflow_y": null,
       "padding": null,
       "right": null,
       "top": null,
       "visibility": null,
       "width": null
      }
     },
     "a6ea249c15b345cf8008ffdbd5d2adfe": {
      "model_module": "@jupyter-widgets/controls",
      "model_module_version": "1.5.0",
      "model_name": "VBoxModel",
      "state": {
       "_dom_classes": [
        "widget-interact"
       ],
       "_model_module": "@jupyter-widgets/controls",
       "_model_module_version": "1.5.0",
       "_model_name": "VBoxModel",
       "_view_count": null,
       "_view_module": "@jupyter-widgets/controls",
       "_view_module_version": "1.5.0",
       "_view_name": "VBoxView",
       "box_style": "",
       "children": [
        "IPY_MODEL_65539e59f8a545398b39a4660a160a4d",
        "IPY_MODEL_fe4a1486f3fd4ea194615479eb772645"
       ],
       "layout": "IPY_MODEL_da69ab5f387f482ba0874ad023db1b3c"
      }
     },
     "b917e3dc40b341f69e46b10ce3888fac": {
      "model_module": "@jupyter-widgets/base",
      "model_module_version": "1.2.0",
      "model_name": "LayoutModel",
      "state": {
       "_model_module": "@jupyter-widgets/base",
       "_model_module_version": "1.2.0",
       "_model_name": "LayoutModel",
       "_view_count": null,
       "_view_module": "@jupyter-widgets/base",
       "_view_module_version": "1.2.0",
       "_view_name": "LayoutView",
       "align_content": null,
       "align_items": null,
       "align_self": null,
       "border": null,
       "bottom": null,
       "display": null,
       "flex": null,
       "flex_flow": null,
       "grid_area": null,
       "grid_auto_columns": null,
       "grid_auto_flow": null,
       "grid_auto_rows": null,
       "grid_column": null,
       "grid_gap": null,
       "grid_row": null,
       "grid_template_areas": null,
       "grid_template_columns": null,
       "grid_template_rows": null,
       "height": null,
       "justify_content": null,
       "justify_items": null,
       "left": null,
       "margin": null,
       "max_height": null,
       "max_width": null,
       "min_height": null,
       "min_width": null,
       "object_fit": null,
       "object_position": null,
       "order": null,
       "overflow": null,
       "overflow_x": null,
       "overflow_y": null,
       "padding": null,
       "right": null,
       "top": null,
       "visibility": null,
       "width": null
      }
     },
     "da69ab5f387f482ba0874ad023db1b3c": {
      "model_module": "@jupyter-widgets/base",
      "model_module_version": "1.2.0",
      "model_name": "LayoutModel",
      "state": {
       "_model_module": "@jupyter-widgets/base",
       "_model_module_version": "1.2.0",
       "_model_name": "LayoutModel",
       "_view_count": null,
       "_view_module": "@jupyter-widgets/base",
       "_view_module_version": "1.2.0",
       "_view_name": "LayoutView",
       "align_content": null,
       "align_items": null,
       "align_self": null,
       "border": null,
       "bottom": null,
       "display": null,
       "flex": null,
       "flex_flow": null,
       "grid_area": null,
       "grid_auto_columns": null,
       "grid_auto_flow": null,
       "grid_auto_rows": null,
       "grid_column": null,
       "grid_gap": null,
       "grid_row": null,
       "grid_template_areas": null,
       "grid_template_columns": null,
       "grid_template_rows": null,
       "height": null,
       "justify_content": null,
       "justify_items": null,
       "left": null,
       "margin": null,
       "max_height": null,
       "max_width": null,
       "min_height": null,
       "min_width": null,
       "object_fit": null,
       "object_position": null,
       "order": null,
       "overflow": null,
       "overflow_x": null,
       "overflow_y": null,
       "padding": null,
       "right": null,
       "top": null,
       "visibility": null,
       "width": null
      }
     },
     "fe4a1486f3fd4ea194615479eb772645": {
      "model_module": "@jupyter-widgets/output",
      "model_module_version": "1.0.0",
      "model_name": "OutputModel",
      "state": {
       "_dom_classes": [],
       "_model_module": "@jupyter-widgets/output",
       "_model_module_version": "1.0.0",
       "_model_name": "OutputModel",
       "_view_count": null,
       "_view_module": "@jupyter-widgets/output",
       "_view_module_version": "1.0.0",
       "_view_name": "OutputView",
       "layout": "IPY_MODEL_34447fa694a5422fb10e8056e2de4be7",
       "msg_id": "",
       "outputs": []
      }
     }
    },
    "version_major": 2,
    "version_minor": 0
   }
  }
 },
 "nbformat": 4,
 "nbformat_minor": 1
}
